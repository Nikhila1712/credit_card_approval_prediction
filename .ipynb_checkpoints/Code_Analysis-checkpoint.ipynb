{
 "cells": [
  {
   "cell_type": "code",
   "execution_count": null,
   "id": "99fb118f",
   "metadata": {
    "scrolled": true
   },
   "outputs": [],
   "source": [
    "import pandas as pd\n",
    "\n",
    "# Load the datasets\n",
    "application_data = pd.read_csv('application_record.csv')\n",
    "credit_data = pd.read_csv('credit_record.csv')\n",
    "\n",
    "# Display the first few rows of each dataset\n",
    "print(application_data.head())\n",
    "print(credit_data.head())"
   ]
  },
  {
   "cell_type": "code",
   "execution_count": null,
   "id": "56ff30ec",
   "metadata": {},
   "outputs": [],
   "source": [
    "application_data.info()"
   ]
  },
  {
   "cell_type": "code",
   "execution_count": null,
   "id": "dd922376",
   "metadata": {},
   "outputs": [],
   "source": [
    "application_data.describe()"
   ]
  },
  {
   "cell_type": "code",
   "execution_count": null,
   "id": "7cf10a49",
   "metadata": {},
   "outputs": [],
   "source": [
    "#Data Cleaning"
   ]
  },
  {
   "cell_type": "code",
   "execution_count": null,
   "id": "c3ad9f28",
   "metadata": {},
   "outputs": [],
   "source": [
    "#Application Data Cleaning"
   ]
  },
  {
   "cell_type": "code",
   "execution_count": null,
   "id": "1761d014",
   "metadata": {},
   "outputs": [],
   "source": [
    "# Check for missing values in application data\n",
    "print(application_data.isnull().sum())\n",
    "\n",
    "# Handle missing values in OCCUPATION_TYPE\n",
    "application_data['OCCUPATION_TYPE'].fillna('Unknown', inplace=True)\n",
    "\n",
    "# Verify there are no missing values in critical columns\n",
    "print(application_data.isnull().sum())\n",
    "\n",
    "# Check for duplicates and drop them if any\n",
    "application_data_cleaned = application_data.drop_duplicates()\n",
    "\n",
    "# Display cleaned application data\n",
    "print(application_data_cleaned.head())\n"
   ]
  },
  {
   "cell_type": "code",
   "execution_count": null,
   "id": "9caa4ac6",
   "metadata": {},
   "outputs": [],
   "source": [
    "#Credit Data Cleaning"
   ]
  },
  {
   "cell_type": "code",
   "execution_count": null,
   "id": "08b4cea9",
   "metadata": {},
   "outputs": [],
   "source": [
    "#checking for missing values in credit data\n",
    "print(credit_data.isnull().sum())\n",
    "\n",
    "# Drop rows with missing values if necessary (not common in this dataset)\n",
    "credit_data_cleaned=credit_data.dropna()\n",
    "\n",
    "# Check for duplicates and drop them if any\n",
    "credit_data_cleaned = credit_data_cleaned.drop_duplicates()\n",
    "\n",
    "# Display cleaned credit data\n",
    "print(credit_data_cleaned.head())\n"
   ]
  },
  {
   "cell_type": "code",
   "execution_count": null,
   "id": "26dd8ffe",
   "metadata": {},
   "outputs": [],
   "source": [
    "#Set up the database"
   ]
  },
  {
   "cell_type": "code",
   "execution_count": null,
   "id": "61a62591",
   "metadata": {},
   "outputs": [],
   "source": [
    "from sqlalchemy import create_engine\n",
    "\n",
    "# Create an engine that connects to an SQLite database\n",
    "engine = create_engine('sqlite:///credit_card_approval.db')\n",
    "\n",
    "# Save cleaned dataframes to SQL tables\n",
    "application_data_cleaned.to_sql('application_record', engine, index=False, if_exists='replace')\n",
    "credit_data_cleaned.to_sql('credit_record', engine, index=False, if_exists='replace')\n"
   ]
  },
  {
   "cell_type": "code",
   "execution_count": null,
   "id": "8c18f069",
   "metadata": {},
   "outputs": [],
   "source": [
    "# Check the first few rows of application_record table\n",
    "query = \"SELECT * FROM application_record LIMIT 5\"\n",
    "application_sample = pd.read_sql(query, engine)\n",
    "print(application_sample)\n",
    "\n",
    "# Check the first few rows of credit_record table\n",
    "query = \"SELECT * FROM credit_record LIMIT 5\"\n",
    "credit_sample = pd.read_sql(query, engine)\n",
    "print(credit_sample)\n"
   ]
  },
  {
   "cell_type": "code",
   "execution_count": null,
   "id": "985cd4cb",
   "metadata": {},
   "outputs": [],
   "source": [
    "#Exploratory Data Analysis(EDA)\n",
    "\n",
    "# Exploratory Data Analysis (EDA) using pandas to understand the distribution and relationships within the data. I'll analyze each feature and its relationship with the target variable (has_delinquency)."
   ]
  },
  {
   "cell_type": "code",
   "execution_count": null,
   "id": "0caf0951",
   "metadata": {},
   "outputs": [],
   "source": [
    "# CODE_GENDER"
   ]
  },
  {
   "cell_type": "code",
   "execution_count": null,
   "id": "877f3d40",
   "metadata": {},
   "outputs": [],
   "source": [
    "import pandas as pd\n",
    "import matplotlib.pyplot as plt\n",
    "\n",
    "# Distribution of CODE_GENDER\n",
    "gender_distribution = application_data_cleaned['CODE_GENDER'].value_counts()\n",
    "print(\"Gender Distribution:\\n\", gender_distribution)\n",
    "\n",
    "# Analyze relationship with target variable (has_delinquency)\n",
    "delinquency_status = credit_data_cleaned.groupby('ID')['STATUS'].apply(lambda x: 1 if any(i in ['2', '3', '4', '5'] for i in x) else 0).reset_index()\n",
    "delinquency_status.columns = ['ID', 'has_delinquency']\n",
    "\n",
    "merged_data = application_data_cleaned.merge(delinquency_status, on='ID', how='left')\n",
    "\n",
    "gender_delinquency = merged_data.groupby('CODE_GENDER')['has_delinquency'].agg(['count', 'sum']).reset_index()\n",
    "gender_delinquency.columns = ['CODE_GENDER', 'Total', 'Delinquent']\n",
    "gender_delinquency['Delinquency_Rate'] = gender_delinquency['Delinquent'] / gender_delinquency['Total']\n",
    "print(\"Gender vs Delinquency:\\n\", gender_delinquency)\n",
    "\n",
    "\n"
   ]
  },
  {
   "cell_type": "code",
   "execution_count": null,
   "id": "f7c5675b",
   "metadata": {},
   "outputs": [],
   "source": [
    "# FLAG_OWN_CAR"
   ]
  },
  {
   "cell_type": "code",
   "execution_count": null,
   "id": "90f9cc53",
   "metadata": {},
   "outputs": [],
   "source": [
    "# Calculate delinquency status for each ID\n",
    "delinquency_status = credit_data_cleaned.groupby('ID')['STATUS'].apply(lambda x: 1 if any(i in ['2', '3', '4', '5'] for i in x) else 0).reset_index()\n",
    "delinquency_status.columns = ['ID', 'has_delinquency']\n",
    "\n",
    "# Merge delinquency status with application data\n",
    "merged_data = application_data_cleaned.merge(delinquency_status, on='ID', how='left')\n",
    "\n",
    "# Distribution of FLAG_OWN_CAR\n",
    "car_ownership_distribution = application_data_cleaned['FLAG_OWN_CAR'].value_counts()\n",
    "print(\"Car Ownership Distribution:\\n\", car_ownership_distribution)\n",
    "\n",
    "# Analyze relationship with target variable (has_delinquency)\n",
    "car_ownership_delinquency = merged_data.groupby('FLAG_OWN_CAR')['has_delinquency'].agg(['count', 'sum']).reset_index()\n",
    "car_ownership_delinquency.columns = ['FLAG_OWN_CAR', 'Total', 'Delinquent']\n",
    "car_ownership_delinquency['Delinquency_Rate'] = car_ownership_delinquency['Delinquent'] / car_ownership_delinquency['Total']\n",
    "print(\"Car Ownership vs Delinquency:\\n\", car_ownership_delinquency)\n",
    "\n",
    "\n"
   ]
  },
  {
   "cell_type": "code",
   "execution_count": null,
   "id": "0b45b96b",
   "metadata": {},
   "outputs": [],
   "source": [
    "#FLAG_OWN_REALTY"
   ]
  },
  {
   "cell_type": "code",
   "execution_count": null,
   "id": "384f6044",
   "metadata": {},
   "outputs": [],
   "source": [
    "# Distribution of FLAG_OWN_REALTY\n",
    "realty_ownership_distribution = application_data_cleaned['FLAG_OWN_REALTY'].value_counts()\n",
    "print(\"Realty Ownership Distribution:\\n\", realty_ownership_distribution)\n",
    "\n",
    "# Analyze relationship with target variable (has_delinquency)\n",
    "realty_ownership_delinquency = merged_data.groupby('FLAG_OWN_REALTY')['has_delinquency'].agg(['count', 'sum']).reset_index()\n",
    "realty_ownership_delinquency.columns = ['FLAG_OWN_REALTY', 'Total', 'Delinquent']\n",
    "realty_ownership_delinquency['Delinquency_Rate'] = realty_ownership_delinquency['Delinquent'] / realty_ownership_delinquency['Total']\n",
    "print(\"Realty Ownership vs Delinquency:\\n\", realty_ownership_delinquency)\n"
   ]
  },
  {
   "cell_type": "code",
   "execution_count": null,
   "id": "cbb86803",
   "metadata": {},
   "outputs": [],
   "source": [
    "#CNT_CHILDREN"
   ]
  },
  {
   "cell_type": "code",
   "execution_count": null,
   "id": "faf32887",
   "metadata": {},
   "outputs": [],
   "source": [
    "# Distribution of CNT_CHILDREN\n",
    "children_distribution = application_data_cleaned['CNT_CHILDREN'].value_counts().sort_index()\n",
    "print(\"Children Distribution:\\n\", children_distribution)\n",
    "\n",
    "# Analyze relationship with target variable (has_delinquency)\n",
    "children_delinquency = merged_data.groupby('CNT_CHILDREN')['has_delinquency'].agg(['count', 'sum']).reset_index()\n",
    "children_delinquency.columns = ['CNT_CHILDREN', 'Total', 'Delinquent']\n",
    "children_delinquency['Delinquency_Rate'] = children_delinquency['Delinquent'] / children_delinquency['Total']\n",
    "print(\"Children vs Delinquency:\\n\", children_delinquency)\n"
   ]
  },
  {
   "cell_type": "code",
   "execution_count": null,
   "id": "34732308",
   "metadata": {},
   "outputs": [],
   "source": [
    "#AMT_INCOME_TOTAL"
   ]
  },
  {
   "cell_type": "code",
   "execution_count": null,
   "id": "81b4166a",
   "metadata": {},
   "outputs": [],
   "source": [
    "# Distribution of AMT_INCOME_TOTAL\n",
    "income_distribution = application_data_cleaned['AMT_INCOME_TOTAL'].describe()\n",
    "print(\"Income Distribution:\\n\", income_distribution)\n",
    "\n",
    "# Analyze relationship with target variable (has_delinquency)\n",
    "income_delinquency = merged_data.groupby(pd.cut(merged_data['AMT_INCOME_TOTAL'], bins=10))['has_delinquency'].agg(['count', 'sum']).reset_index()\n",
    "income_delinquency.columns = ['AMT_INCOME_TOTAL_BIN', 'Total', 'Delinquent']\n",
    "income_delinquency['Delinquency_Rate'] = income_delinquency['Delinquent'] / income_delinquency['Total']\n",
    "print(\"Income vs Delinquency:\\n\", income_delinquency)\n"
   ]
  },
  {
   "cell_type": "code",
   "execution_count": null,
   "id": "ea1b9d72",
   "metadata": {},
   "outputs": [],
   "source": [
    "#NAME_INCOME_TYPE"
   ]
  },
  {
   "cell_type": "code",
   "execution_count": null,
   "id": "0e68811c",
   "metadata": {},
   "outputs": [],
   "source": [
    "# Distribution of NAME_INCOME_TYPE\n",
    "income_type_distribution = application_data_cleaned['NAME_INCOME_TYPE'].value_counts()\n",
    "print(\"Income Type Distribution:\\n\", income_type_distribution)\n",
    "\n",
    "# Analyze relationship with target variable (has_delinquency)\n",
    "income_type_delinquency = merged_data.groupby('NAME_INCOME_TYPE')['has_delinquency'].agg(['count', 'sum']).reset_index()\n",
    "income_type_delinquency.columns = ['NAME_INCOME_TYPE', 'Total', 'Delinquent']\n",
    "income_type_delinquency['Delinquency_Rate'] = income_type_delinquency['Delinquent'] / income_type_delinquency['Total']\n",
    "print(\"Income Type vs Delinquency:\\n\", income_type_delinquency)\n"
   ]
  },
  {
   "cell_type": "code",
   "execution_count": null,
   "id": "2477bada",
   "metadata": {},
   "outputs": [],
   "source": [
    "#NAME_EDUCATION_TYPE"
   ]
  },
  {
   "cell_type": "code",
   "execution_count": null,
   "id": "871b6ceb",
   "metadata": {},
   "outputs": [],
   "source": [
    "# Distribution of NAME_EDUCATION_TYPE\n",
    "education_type_distribution = application_data_cleaned['NAME_EDUCATION_TYPE'].value_counts()\n",
    "print(\"Education Type Distribution:\\n\", education_type_distribution)\n",
    "\n",
    "# Analyze relationship with target variable (has_delinquency)\n",
    "education_type_delinquency = merged_data.groupby('NAME_EDUCATION_TYPE')['has_delinquency'].agg(['count', 'sum']).reset_index()\n",
    "education_type_delinquency.columns = ['NAME_EDUCATION_TYPE', 'Total', 'Delinquent']\n",
    "education_type_delinquency['Delinquency_Rate'] = education_type_delinquency['Delinquent'] / education_type_delinquency['Total']\n",
    "print(\"Education Type vs Delinquency:\\n\", education_type_delinquency)\n"
   ]
  },
  {
   "cell_type": "code",
   "execution_count": null,
   "id": "e2fc72f5",
   "metadata": {},
   "outputs": [],
   "source": [
    "#NAME_FAMILY_STATUS"
   ]
  },
  {
   "cell_type": "code",
   "execution_count": null,
   "id": "404aca28",
   "metadata": {},
   "outputs": [],
   "source": [
    "# Distribution of NAME_FAMILY_STATUS\n",
    "family_status_distribution = application_data_cleaned['NAME_FAMILY_STATUS'].value_counts()\n",
    "print(\"Family Status Distribution:\\n\", family_status_distribution)\n",
    "\n",
    "# Analyze relationship with target variable (has_delinquency)\n",
    "family_status_delinquency = merged_data.groupby('NAME_FAMILY_STATUS')['has_delinquency'].agg(['count', 'sum']).reset_index()\n",
    "family_status_delinquency.columns = ['NAME_FAMILY_STATUS', 'Total', 'Delinquent']\n",
    "family_status_delinquency['Delinquency_Rate'] = family_status_delinquency['Delinquent'] / family_status_delinquency['Total']\n",
    "print(\"Family Status vs Delinquency:\\n\", family_status_delinquency)\n"
   ]
  },
  {
   "cell_type": "code",
   "execution_count": null,
   "id": "110bfd49",
   "metadata": {},
   "outputs": [],
   "source": [
    "# NAME_HOUSING_TYPE"
   ]
  },
  {
   "cell_type": "code",
   "execution_count": null,
   "id": "4c6f67f3",
   "metadata": {},
   "outputs": [],
   "source": [
    "# Distribution of NAME_HOUSING_TYPE\n",
    "housing_type_distribution = application_data_cleaned['NAME_HOUSING_TYPE'].value_counts()\n",
    "print(\"Housing Type Distribution:\\n\", housing_type_distribution)\n",
    "\n",
    "# Analyze relationship with target variable (has_delinquency)\n",
    "housing_type_delinquency = merged_data.groupby('NAME_HOUSING_TYPE')['has_delinquency'].agg(['count', 'sum']).reset_index()\n",
    "housing_type_delinquency.columns = ['NAME_HOUSING_TYPE', 'Total', 'Delinquent']\n",
    "housing_type_delinquency['Delinquency_Rate'] = housing_type_delinquency['Delinquent'] / housing_type_delinquency['Total']\n",
    "print(\"Housing Type vs Delinquency:\\n\", housing_type_delinquency)\n"
   ]
  },
  {
   "cell_type": "code",
   "execution_count": null,
   "id": "5d7b092b",
   "metadata": {},
   "outputs": [],
   "source": [
    "#DAYS_BIRTH to AGE and DAYS_EMPLOYED to YEARS_EMPLOYED"
   ]
  },
  {
   "cell_type": "code",
   "execution_count": null,
   "id": "e1cc3074",
   "metadata": {},
   "outputs": [],
   "source": [
    "# Convert DAYS_BIRTH to AGE and DAYS_EMPLOYED to YEARS_EMPLOYED in the cleaned application data\n",
    "application_data_cleaned['AGE'] = application_data_cleaned['DAYS_BIRTH'] / -365\n",
    "application_data_cleaned['YEARS_EMPLOYED'] = application_data_cleaned['DAYS_EMPLOYED'] / -365\n",
    "\n",
    "# Merge the new features with the delinquency status\n",
    "merged_data = application_data_cleaned.merge(delinquency_status, on='ID', how='left')\n",
    "\n",
    "# Distribution of AGE\n",
    "age_distribution = application_data_cleaned['AGE'].describe()\n",
    "print(\"Age Distribution:\\n\", age_distribution)\n",
    "\n",
    "# Analyze relationship with target variable (has_delinquency)\n",
    "age_delinquency = merged_data.groupby(pd.cut(merged_data['AGE'], bins=10))['has_delinquency'].agg(['count', 'sum']).reset_index()\n",
    "age_delinquency.columns = ['AGE_BIN', 'Total', 'Delinquent']\n",
    "age_delinquency['Delinquency_Rate'] = age_delinquency['Delinquent'] / age_delinquency['Total']\n",
    "print(\"Age vs Delinquency:\\n\", age_delinquency)\n",
    "\n",
    "# Distribution of YEARS_EMPLOYED\n",
    "years_employed_distribution = application_data_cleaned['YEARS_EMPLOYED'].describe()\n",
    "print(\"Years Employed Distribution:\\n\", years_employed_distribution)\n",
    "\n",
    "# Analyze relationship with target variable (has_delinquency)\n",
    "years_employed_delinquency = merged_data.groupby(pd.cut(merged_data['YEARS_EMPLOYED'], bins=10))['has_delinquency'].agg(['count', 'sum']).reset_index()\n",
    "years_employed_delinquency.columns = ['YEARS_EMPLOYED_BIN', 'Total', 'Delinquent']\n",
    "years_employed_delinquency['Delinquency_Rate'] = years_employed_delinquency['Delinquent'] / years_employed_delinquency['Total']\n",
    "print(\"Years Employed vs Delinquency:\\n\", years_employed_delinquency)\n",
    "\n"
   ]
  },
  {
   "cell_type": "code",
   "execution_count": null,
   "id": "fa4f1616",
   "metadata": {},
   "outputs": [],
   "source": [
    "#Step 1: Feature Engineering\n",
    "#Based on the insights from EDA, create new features that might improve the model's performance."
   ]
  },
  {
   "cell_type": "code",
   "execution_count": null,
   "id": "fa00c45b",
   "metadata": {},
   "outputs": [],
   "source": [
    "# Create new features\n",
    "application_data_cleaned['AGE'] = application_data_cleaned['DAYS_BIRTH'] / -365\n",
    "application_data_cleaned['YEARS_EMPLOYED'] = application_data_cleaned['DAYS_EMPLOYED'] / -365\n",
    "application_data_cleaned['INCOME_PER_FAM_MEMBER'] = application_data_cleaned['AMT_INCOME_TOTAL'] / application_data_cleaned['CNT_FAM_MEMBERS']\n",
    "\n",
    "# Save the updated dataframe\n",
    "application_data_cleaned.to_csv('application_record_feature_engineered.csv', index=False)\n",
    "\n",
    "# Verify the new features\n",
    "print(application_data_cleaned[['AGE', 'YEARS_EMPLOYED', 'INCOME_PER_FAM_MEMBER']].head())\n"
   ]
  },
  {
   "cell_type": "code",
   "execution_count": null,
   "id": "5fd2b1be",
   "metadata": {},
   "outputs": [],
   "source": [
    "#Step 2: Data Preparation\n",
    "#Encode categorical variables, split data into training and testing sets, and scale the features."
   ]
  },
  {
   "cell_type": "code",
   "execution_count": null,
   "id": "05e5bf18",
   "metadata": {},
   "outputs": [],
   "source": [
    "from sklearn.model_selection import train_test_split\n",
    "from sklearn.preprocessing import LabelEncoder, StandardScaler\n",
    "\n",
    "# Encode categorical variables\n",
    "categorical_columns = ['CODE_GENDER', 'FLAG_OWN_CAR', 'FLAG_OWN_REALTY', 'NAME_INCOME_TYPE', 'NAME_EDUCATION_TYPE', 'NAME_FAMILY_STATUS', 'NAME_HOUSING_TYPE', 'OCCUPATION_TYPE']\n",
    "label_encoders = {}\n",
    "\n",
    "for column in categorical_columns:\n",
    "    le = LabelEncoder()\n",
    "    application_data_cleaned[column] = le.fit_transform(application_data_cleaned[column].astype(str))\n",
    "    label_encoders[column] = le\n",
    "\n",
    "# Define features and target variable\n",
    "X = application_data_cleaned.drop(columns=['ID', 'DAYS_BIRTH', 'DAYS_EMPLOYED'])\n",
    "y = merged_data['has_delinquency']\n",
    "\n",
    "# Split the data into training and testing sets\n",
    "X_train, X_test, y_train, y_test = train_test_split(X, y, test_size=0.2, random_state=42)\n",
    "\n",
    "# Feature scaling\n",
    "scaler = StandardScaler()\n",
    "X_train_scaled = scaler.fit_transform(X_train)\n",
    "X_test_scaled = scaler.transform(X_test)\n"
   ]
  },
  {
   "cell_type": "code",
   "execution_count": null,
   "id": "85b9e014",
   "metadata": {},
   "outputs": [],
   "source": [
    "#Step 3: Handling Imbalanced Data\n",
    "#Use SMOTE to balance the training data."
   ]
  },
  {
   "cell_type": "code",
   "execution_count": null,
   "id": "ddb56b46",
   "metadata": {},
   "outputs": [],
   "source": [
    "import os\n",
    "\n",
    "os.environ[\"OMP_NUM_THREADS\"] = \"1\"\n",
    "os.environ[\"MKL_NUM_THREADS\"] = \"1\"\n",
    "os.environ[\"OPENBLAS_NUM_THREADS\"] = \"1\"\n",
    "os.environ[\"NUMEXPR_NUM_THREADS\"] = \"1\"\n"
   ]
  },
  {
   "cell_type": "code",
   "execution_count": null,
   "id": "5e7c5ddc",
   "metadata": {},
   "outputs": [],
   "source": [
    "# Fill NaN values in the target variable with 0 or any appropriate value\n",
    "y_train = y_train.fillna(0)\n",
    "\n",
    "# Verify there are no NaN values in y_train\n",
    "print(f\"Number of NaN values in y_train: {y_train.isna().sum()}\")\n"
   ]
  },
  {
   "cell_type": "code",
   "execution_count": null,
   "id": "537120e5",
   "metadata": {},
   "outputs": [],
   "source": [
    "from imblearn.over_sampling import RandomOverSampler\n",
    "from collections import Counter\n",
    "\n",
    "# Initialize RandomOverSampler\n",
    "ros = RandomOverSampler(random_state=42)\n",
    "\n",
    "# Apply RandomOverSampler to the training data\n",
    "X_train_ros, y_train_ros = ros.fit_resample(X_train_scaled, y_train)\n",
    "\n",
    "# Verify the new training data distribution\n",
    "print(f\"Original training set shape: {Counter(y_train)}\")\n",
    "print(f\"Resampled training set shape: {Counter(y_train_ros)}\")\n"
   ]
  },
  {
   "cell_type": "code",
   "execution_count": null,
   "id": "09da0869",
   "metadata": {},
   "outputs": [],
   "source": [
    "#Step 4: Model Building and Evaluation\n",
    "#Train and evaluate logistic regression and random forest models."
   ]
  },
  {
   "cell_type": "code",
   "execution_count": null,
   "id": "b369179d",
   "metadata": {},
   "outputs": [],
   "source": [
    "#Logistic Regression \n",
    "\n",
    "from sklearn.linear_model import LogisticRegression\n",
    "from sklearn.metrics import accuracy_score, precision_score, recall_score, f1_score, confusion_matrix, classification_report, roc_curve, auc\n",
    "import matplotlib.pyplot as plt\n",
    "import seaborn as sns\n",
    "\n",
    "# Train the logistic regression model with class weight adjustment\n",
    "model = LogisticRegression(random_state=42, class_weight='balanced')\n",
    "model.fit(X_train_ros, y_train_ros)\n",
    "\n",
    "# Evaluate on training data\n",
    "logistic_train_predictions = model.predict(X_train_ros)\n",
    "print(f\"Training Accuracy: {accuracy_score(y_train_ros, logistic_train_predictions)}\")\n",
    "print(f\"Training Precision: {precision_score(y_train_ros, logistic_train_predictions)}\")\n",
    "print(f\"Training Recall: {recall_score(y_train_ros, logistic_train_predictions)}\")\n",
    "print(f\"Training F1 Score: {f1_score(y_train_ros, logistic_train_predictions)}\")\n",
    "\n",
    "# Make predictions on the test set\n",
    "y_pred = model.predict(X_test_scaled)\n",
    "y_prob = model.predict_proba(X_test_scaled)[:, 1]\n",
    "\n",
    "# Ensure no NaN values in the test target variable\n",
    "y_test = y_test.fillna(0)\n",
    "\n",
    "# Evaluate on test data\n",
    "print(f\"Test Accuracy: {accuracy_score(y_test, y_pred)}\")\n",
    "print(f\"Test Precision: {precision_score(y_test, y_pred)}\")\n",
    "print(f\"Test Recall: {recall_score(y_test, y_pred)}\")\n",
    "print(f\"Test F1 Score: {f1_score(y_test, y_pred)}\")\n",
    "print(f\"Confusion Matrix:\\n{confusion_matrix(y_test, y_pred)}\")\n",
    "print(f\"Classification Report:\\n{classification_report(y_test, y_pred)}\")\n",
    "\n",
    "# Plotting the ROC curve\n",
    "fpr, tpr, _ = roc_curve(y_test, y_prob)\n",
    "roc_auc = auc(fpr, tpr)\n",
    "\n",
    "plt.figure(figsize=(8, 6))\n",
    "plt.plot(fpr, tpr, color='blue', lw=2, label='ROC curve (area = %0.2f)' % roc_auc)\n",
    "plt.plot([0, 1], [0, 1], color='gray', lw=2, linestyle='--')\n",
    "plt.xlim([0.0, 1.0])\n",
    "plt.ylim([0.0, 1.05])\n",
    "plt.xlabel('False Positive Rate')\n",
    "plt.ylabel('True Positive Rate')\n",
    "plt.title('Receiver Operating Characteristic (ROC) Curve')\n",
    "plt.legend(loc=\"lower right\")\n",
    "plt.show()\n",
    "\n"
   ]
  },
  {
   "cell_type": "code",
   "execution_count": null,
   "id": "911a5466",
   "metadata": {},
   "outputs": [],
   "source": [
    "#Random Forest\n",
    "\n",
    "from sklearn.ensemble import RandomForestClassifier\n",
    "\n",
    "# Train the random forest model\n",
    "rf_model = RandomForestClassifier(n_estimators=100, max_depth=10, random_state=42)\n",
    "rf_model.fit(X_train_ros, y_train_ros)\n",
    "\n",
    "# Evaluate on training data\n",
    "rf_train_predictions = rf_model.predict(X_train_ros)\n",
    "print(f\"Training Accuracy: {accuracy_score(y_train_ros, rf_train_predictions)}\")\n",
    "print(f\"Training Precision: {precision_score(y_train_ros, rf_train_predictions)}\")\n",
    "print(f\"Training Recall: {recall_score(y_train_ros, rf_train_predictions)}\")\n",
    "print(f\"Training F1 Score: {f1_score(y_train_ros, rf_train_predictions)}\")\n",
    "\n",
    "# Make predictions on the test set\n",
    "y_pred_rf = rf_model.predict(X_test_scaled)\n",
    "y_prob_rf = rf_model.predict_proba(X_test_scaled)[:, 1]\n",
    "\n",
    "# Ensure no NaN values in the test target variable\n",
    "y_test = y_test.fillna(0)\n",
    "\n",
    "# Evaluate on test data\n",
    "print(f\"Test Accuracy: {accuracy_score(y_test, y_pred_rf)}\")\n",
    "print(f\"Test Precision: {precision_score(y_test, y_pred_rf)}\")\n",
    "print(f\"Test Recall: {recall_score(y_test, y_pred_rf)}\")\n",
    "print(f\"Test F1 Score: {f1_score(y_test, y_pred_rf)}\")\n",
    "print(f\"Confusion Matrix:\\n{confusion_matrix(y_test, y_pred_rf)}\")\n",
    "print(f\"Classification Report:\\n{classification_report(y_test, y_pred_rf)}\")\n",
    "\n",
    "# Plotting the ROC curve\n",
    "fpr_rf, tpr_rf, _ = roc_curve(y_test, y_prob_rf)\n",
    "roc_auc_rf = auc(fpr_rf, tpr_rf)\n",
    "\n",
    "plt.figure(figsize=(8, 6))\n",
    "plt.plot(fpr_rf, tpr_rf, color='blue', lw=2, label='ROC curve (area = %0.2f)' % roc_auc_rf)\n",
    "plt.plot([0, 1], [0, 1], color='gray', lw=2, linestyle='--')\n",
    "plt.xlim([0.0, 1.0])\n",
    "plt.ylim([0.0, 1.05])\n",
    "plt.xlabel('False Positive Rate')\n",
    "plt.ylabel('True Positive Rate')\n",
    "plt.title('Receiver Operating Characteristic (ROC) Curve')\n",
    "plt.legend(loc=\"lower right\")\n",
    "plt.show()\n",
    "\n"
   ]
  },
  {
   "cell_type": "code",
   "execution_count": null,
   "id": "4e7844b3",
   "metadata": {},
   "outputs": [],
   "source": [
    "from xgboost import XGBClassifier\n",
    "\n",
    "# Train the XGBoost model\n",
    "xgb_model = XGBClassifier(random_state=42, scale_pos_weight=len(y_train_ros)/sum(y_train_ros))\n",
    "xgb_model.fit(X_train_ros, y_train_ros)\n",
    "\n",
    "# Evaluate on training data\n",
    "xgb_train_predictions = xgb_model.predict(X_train_ros)\n",
    "print(f\"Training Accuracy: {accuracy_score(y_train_ros, xgb_train_predictions)}\")\n",
    "print(f\"Training Precision: {precision_score(y_train_ros, xgb_train_predictions)}\")\n",
    "print(f\"Training Recall: {recall_score(y_train_ros, xgb_train_predictions)}\")\n",
    "print(f\"Training F1 Score: {f1_score(y_train_ros, xgb_train_predictions)}\")\n",
    "\n",
    "# Make predictions on the test set\n",
    "y_pred_xgb = xgb_model.predict(X_test_scaled)\n",
    "y_prob_xgb = xgb_model.predict_proba(X_test_scaled)[:, 1]\n",
    "\n",
    "# Evaluate on test data\n",
    "print(f\"Test Accuracy: {accuracy_score(y_test, y_pred_xgb)}\")\n",
    "print(f\"Test Precision: {precision_score(y_test, y_pred_xgb)}\")\n",
    "print(f\"Test Recall: {recall_score(y_test, y_pred_xgb)}\")\n",
    "print(f\"Test F1 Score: {f1_score(y_test, y_pred_xgb)}\")\n",
    "print(f\"Confusion Matrix:\\n{confusion_matrix(y_test, y_pred_xgb)}\")\n",
    "print(f\"Classification Report:\\n{classification_report(y_test, y_pred_xgb)}\")\n",
    "\n",
    "# Plotting the ROC curve\n",
    "fpr_xgb, tpr_xgb, _ = roc_curve(y_test, y_prob_xgb)\n",
    "roc_auc_xgb = auc(fpr_xgb, tpr_xgb)\n",
    "\n",
    "plt.figure(figsize=(8, 6))\n",
    "plt.plot(fpr_xgb, tpr_xgb, color='blue', lw=2, label='ROC curve (area = %0.2f)' % roc_auc_xgb)\n",
    "plt.plot([0, 1], [0, 1], color='gray', lw=2, linestyle='--')\n",
    "plt.xlim([0.0, 1.0])\n",
    "plt.ylim([0.0, 1.05])\n",
    "plt.xlabel('False Positive Rate')\n",
    "plt.ylabel('True Positive Rate')\n",
    "plt.title('Receiver Operating Characteristic (ROC) Curve')\n",
    "plt.legend(loc=\"lower right\")\n",
    "plt.show()\n"
   ]
  },
  {
   "cell_type": "code",
   "execution_count": null,
   "id": "10822af7",
   "metadata": {},
   "outputs": [],
   "source": [
    "#Step 5: Hyperparameter Tuning\n",
    "#Next, we can perform hyperparameter tuning using Grid Search for Logistic Regression and Random Forest.\n",
    "\n",
    "#Logistic Regression Hyperparameter Tuning"
   ]
  },
  {
   "cell_type": "code",
   "execution_count": null,
   "id": "d596a126",
   "metadata": {},
   "outputs": [],
   "source": [
    "from sklearn.model_selection import GridSearchCV\n",
    "from sklearn.linear_model import LogisticRegression\n",
    "\n",
    "# Define the parameter grid for logistic regression\n",
    "param_grid_lr = {\n",
    "    'C': [0.01, 0.1, 1, 10, 100],\n",
    "    'penalty': ['l1', 'l2'],\n",
    "    'solver': ['liblinear']\n",
    "}\n",
    "\n",
    "# Initialize the model\n",
    "log_reg = LogisticRegression(random_state=42, class_weight='balanced')\n",
    "\n",
    "# Initialize GridSearchCV\n",
    "grid_search_lr = GridSearchCV(estimator=log_reg, param_grid=param_grid_lr, cv=5, scoring='accuracy', n_jobs=-1)\n",
    "\n",
    "# Fit the model\n",
    "grid_search_lr.fit(X_train_ros, y_train_ros)\n",
    "\n",
    "# Best parameters and best score\n",
    "print(\"Best Parameters for Logistic Regression:\", grid_search_lr.best_params_)\n",
    "print(\"Best Score for Logistic Regression:\", grid_search_lr.best_score_)\n",
    "\n",
    "# Evaluate the tuned model\n",
    "best_log_reg = grid_search_lr.best_estimator_\n",
    "y_pred_lr_tuned = best_log_reg.predict(X_test_scaled)\n",
    "print('Logistic Regression - Accuracy:', accuracy_score(y_test, y_pred_lr_tuned))\n",
    "print('Logistic Regression - Confusion Matrix:\\n', confusion_matrix(y_test, y_pred_lr_tuned))\n",
    "print('Logistic Regression - Classification Report:\\n', classification_report(y_test, y_pred_lr_tuned))\n"
   ]
  },
  {
   "cell_type": "code",
   "execution_count": null,
   "id": "0e0ba1ff",
   "metadata": {},
   "outputs": [],
   "source": [
    "import numpy as np\n",
    "import matplotlib.pyplot as plt\n",
    "\n",
    "# Feature importance from the best Random Forest model\n",
    "importances = best_rf_model.feature_importances_\n",
    "indices = np.argsort(importances)[::-1]\n",
    "\n",
    "# Assuming you have a list of feature names\n",
    "feature_names = X.columns\n",
    "\n",
    "# Print the feature ranking\n",
    "print(\"Feature ranking:\")\n",
    "\n",
    "for f in range(X.shape[1]):\n",
    "    print(f\"{f + 1}. feature {indices[f]} ({importances[indices[f]]})\")\n",
    "\n",
    "# Plot the feature importances\n",
    "plt.figure(figsize=(10, 6))\n",
    "plt.title(\"Feature Importances\")\n",
    "plt.bar(range(X.shape[1]), importances[indices], align=\"center\")\n",
    "plt.xticks(range(X.shape[1]), feature_names[indices], rotation=90)\n",
    "plt.xlim([-1, X.shape[1]])\n",
    "plt.show()\n"
   ]
  },
  {
   "cell_type": "code",
   "execution_count": null,
   "id": "e807fa2e",
   "metadata": {},
   "outputs": [],
   "source": [
    "#Saving the Model\n",
    "#You can save the trained models using joblib or pickle."
   ]
  },
  {
   "cell_type": "code",
   "execution_count": null,
   "id": "54eeee38",
   "metadata": {},
   "outputs": [],
   "source": [
    "import joblib\n",
    "\n",
    "# Save the best logistic regression model\n",
    "joblib.dump(best_model, 'best_logistic_regression_model.pkl')\n",
    "\n",
    "# Save the best random forest model\n",
    "joblib.dump(best_rf_model, 'best_random_forest_model.pkl')\n"
   ]
  },
  {
   "cell_type": "code",
   "execution_count": null,
   "id": "169ed236",
   "metadata": {},
   "outputs": [],
   "source": []
  },
  {
   "cell_type": "code",
   "execution_count": null,
   "id": "8cb0b9da",
   "metadata": {},
   "outputs": [],
   "source": []
  },
  {
   "cell_type": "code",
   "execution_count": null,
   "id": "798907e8",
   "metadata": {},
   "outputs": [],
   "source": []
  },
  {
   "cell_type": "code",
   "execution_count": null,
   "id": "f01c2266",
   "metadata": {},
   "outputs": [],
   "source": []
  }
 ],
 "metadata": {
  "kernelspec": {
   "display_name": "Python 3",
   "language": "python",
   "name": "python3"
  },
  "language_info": {
   "codemirror_mode": {
    "name": "ipython",
    "version": 3
   },
   "file_extension": ".py",
   "mimetype": "text/x-python",
   "name": "python",
   "nbconvert_exporter": "python",
   "pygments_lexer": "ipython3",
   "version": "3.8.8"
  }
 },
 "nbformat": 4,
 "nbformat_minor": 5
}
