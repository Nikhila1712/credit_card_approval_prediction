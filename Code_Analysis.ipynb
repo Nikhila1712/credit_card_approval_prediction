{
 "cells": [
  {
   "cell_type": "code",
   "execution_count": 3,
   "id": "99fb118f",
   "metadata": {
    "scrolled": true
   },
   "outputs": [
    {
     "name": "stdout",
     "output_type": "stream",
     "text": [
      "        ID CODE_GENDER FLAG_OWN_CAR FLAG_OWN_REALTY  CNT_CHILDREN  \\\n",
      "0  5008804           M            Y               Y             0   \n",
      "1  5008805           M            Y               Y             0   \n",
      "2  5008806           M            Y               Y             0   \n",
      "3  5008808           F            N               Y             0   \n",
      "4  5008809           F            N               Y             0   \n",
      "\n",
      "   AMT_INCOME_TOTAL      NAME_INCOME_TYPE            NAME_EDUCATION_TYPE  \\\n",
      "0          427500.0               Working               Higher education   \n",
      "1          427500.0               Working               Higher education   \n",
      "2          112500.0               Working  Secondary / secondary special   \n",
      "3          270000.0  Commercial associate  Secondary / secondary special   \n",
      "4          270000.0  Commercial associate  Secondary / secondary special   \n",
      "\n",
      "     NAME_FAMILY_STATUS  NAME_HOUSING_TYPE  DAYS_BIRTH  DAYS_EMPLOYED  \\\n",
      "0        Civil marriage   Rented apartment      -12005          -4542   \n",
      "1        Civil marriage   Rented apartment      -12005          -4542   \n",
      "2               Married  House / apartment      -21474          -1134   \n",
      "3  Single / not married  House / apartment      -19110          -3051   \n",
      "4  Single / not married  House / apartment      -19110          -3051   \n",
      "\n",
      "   FLAG_MOBIL  FLAG_WORK_PHONE  FLAG_PHONE  FLAG_EMAIL OCCUPATION_TYPE  \\\n",
      "0           1                1           0           0             NaN   \n",
      "1           1                1           0           0             NaN   \n",
      "2           1                0           0           0  Security staff   \n",
      "3           1                0           1           1     Sales staff   \n",
      "4           1                0           1           1     Sales staff   \n",
      "\n",
      "   CNT_FAM_MEMBERS  \n",
      "0              2.0  \n",
      "1              2.0  \n",
      "2              2.0  \n",
      "3              1.0  \n",
      "4              1.0  \n",
      "        ID  MONTHS_BALANCE STATUS\n",
      "0  5001711               0      X\n",
      "1  5001711              -1      0\n",
      "2  5001711              -2      0\n",
      "3  5001711              -3      0\n",
      "4  5001712               0      C\n"
     ]
    }
   ],
   "source": [
    "import pandas as pd\n",
    "\n",
    "# Load the datasets\n",
    "application_data = pd.read_csv('application_record.csv')\n",
    "credit_data = pd.read_csv('credit_record.csv')\n",
    "\n",
    "# Display the first few rows of each dataset\n",
    "print(application_data.head())\n",
    "print(credit_data.head())"
   ]
  },
  {
   "cell_type": "code",
   "execution_count": 4,
   "id": "56ff30ec",
   "metadata": {},
   "outputs": [
    {
     "name": "stdout",
     "output_type": "stream",
     "text": [
      "<class 'pandas.core.frame.DataFrame'>\n",
      "RangeIndex: 438557 entries, 0 to 438556\n",
      "Data columns (total 18 columns):\n",
      " #   Column               Non-Null Count   Dtype  \n",
      "---  ------               --------------   -----  \n",
      " 0   ID                   438557 non-null  int64  \n",
      " 1   CODE_GENDER          438557 non-null  object \n",
      " 2   FLAG_OWN_CAR         438557 non-null  object \n",
      " 3   FLAG_OWN_REALTY      438557 non-null  object \n",
      " 4   CNT_CHILDREN         438557 non-null  int64  \n",
      " 5   AMT_INCOME_TOTAL     438557 non-null  float64\n",
      " 6   NAME_INCOME_TYPE     438557 non-null  object \n",
      " 7   NAME_EDUCATION_TYPE  438557 non-null  object \n",
      " 8   NAME_FAMILY_STATUS   438557 non-null  object \n",
      " 9   NAME_HOUSING_TYPE    438557 non-null  object \n",
      " 10  DAYS_BIRTH           438557 non-null  int64  \n",
      " 11  DAYS_EMPLOYED        438557 non-null  int64  \n",
      " 12  FLAG_MOBIL           438557 non-null  int64  \n",
      " 13  FLAG_WORK_PHONE      438557 non-null  int64  \n",
      " 14  FLAG_PHONE           438557 non-null  int64  \n",
      " 15  FLAG_EMAIL           438557 non-null  int64  \n",
      " 16  OCCUPATION_TYPE      304354 non-null  object \n",
      " 17  CNT_FAM_MEMBERS      438557 non-null  float64\n",
      "dtypes: float64(2), int64(8), object(8)\n",
      "memory usage: 60.2+ MB\n"
     ]
    }
   ],
   "source": [
    "application_data.info()"
   ]
  },
  {
   "cell_type": "code",
   "execution_count": 5,
   "id": "dd922376",
   "metadata": {},
   "outputs": [
    {
     "data": {
      "text/html": [
       "<div>\n",
       "<style scoped>\n",
       "    .dataframe tbody tr th:only-of-type {\n",
       "        vertical-align: middle;\n",
       "    }\n",
       "\n",
       "    .dataframe tbody tr th {\n",
       "        vertical-align: top;\n",
       "    }\n",
       "\n",
       "    .dataframe thead th {\n",
       "        text-align: right;\n",
       "    }\n",
       "</style>\n",
       "<table border=\"1\" class=\"dataframe\">\n",
       "  <thead>\n",
       "    <tr style=\"text-align: right;\">\n",
       "      <th></th>\n",
       "      <th>ID</th>\n",
       "      <th>CNT_CHILDREN</th>\n",
       "      <th>AMT_INCOME_TOTAL</th>\n",
       "      <th>DAYS_BIRTH</th>\n",
       "      <th>DAYS_EMPLOYED</th>\n",
       "      <th>FLAG_MOBIL</th>\n",
       "      <th>FLAG_WORK_PHONE</th>\n",
       "      <th>FLAG_PHONE</th>\n",
       "      <th>FLAG_EMAIL</th>\n",
       "      <th>CNT_FAM_MEMBERS</th>\n",
       "    </tr>\n",
       "  </thead>\n",
       "  <tbody>\n",
       "    <tr>\n",
       "      <th>count</th>\n",
       "      <td>4.385570e+05</td>\n",
       "      <td>438557.000000</td>\n",
       "      <td>4.385570e+05</td>\n",
       "      <td>438557.000000</td>\n",
       "      <td>438557.000000</td>\n",
       "      <td>438557.0</td>\n",
       "      <td>438557.000000</td>\n",
       "      <td>438557.000000</td>\n",
       "      <td>438557.000000</td>\n",
       "      <td>438557.000000</td>\n",
       "    </tr>\n",
       "    <tr>\n",
       "      <th>mean</th>\n",
       "      <td>6.022176e+06</td>\n",
       "      <td>0.427390</td>\n",
       "      <td>1.875243e+05</td>\n",
       "      <td>-15997.904649</td>\n",
       "      <td>60563.675328</td>\n",
       "      <td>1.0</td>\n",
       "      <td>0.206133</td>\n",
       "      <td>0.287771</td>\n",
       "      <td>0.108207</td>\n",
       "      <td>2.194465</td>\n",
       "    </tr>\n",
       "    <tr>\n",
       "      <th>std</th>\n",
       "      <td>5.716370e+05</td>\n",
       "      <td>0.724882</td>\n",
       "      <td>1.100869e+05</td>\n",
       "      <td>4185.030007</td>\n",
       "      <td>138767.799647</td>\n",
       "      <td>0.0</td>\n",
       "      <td>0.404527</td>\n",
       "      <td>0.452724</td>\n",
       "      <td>0.310642</td>\n",
       "      <td>0.897207</td>\n",
       "    </tr>\n",
       "    <tr>\n",
       "      <th>min</th>\n",
       "      <td>5.008804e+06</td>\n",
       "      <td>0.000000</td>\n",
       "      <td>2.610000e+04</td>\n",
       "      <td>-25201.000000</td>\n",
       "      <td>-17531.000000</td>\n",
       "      <td>1.0</td>\n",
       "      <td>0.000000</td>\n",
       "      <td>0.000000</td>\n",
       "      <td>0.000000</td>\n",
       "      <td>1.000000</td>\n",
       "    </tr>\n",
       "    <tr>\n",
       "      <th>25%</th>\n",
       "      <td>5.609375e+06</td>\n",
       "      <td>0.000000</td>\n",
       "      <td>1.215000e+05</td>\n",
       "      <td>-19483.000000</td>\n",
       "      <td>-3103.000000</td>\n",
       "      <td>1.0</td>\n",
       "      <td>0.000000</td>\n",
       "      <td>0.000000</td>\n",
       "      <td>0.000000</td>\n",
       "      <td>2.000000</td>\n",
       "    </tr>\n",
       "    <tr>\n",
       "      <th>50%</th>\n",
       "      <td>6.047745e+06</td>\n",
       "      <td>0.000000</td>\n",
       "      <td>1.607805e+05</td>\n",
       "      <td>-15630.000000</td>\n",
       "      <td>-1467.000000</td>\n",
       "      <td>1.0</td>\n",
       "      <td>0.000000</td>\n",
       "      <td>0.000000</td>\n",
       "      <td>0.000000</td>\n",
       "      <td>2.000000</td>\n",
       "    </tr>\n",
       "    <tr>\n",
       "      <th>75%</th>\n",
       "      <td>6.456971e+06</td>\n",
       "      <td>1.000000</td>\n",
       "      <td>2.250000e+05</td>\n",
       "      <td>-12514.000000</td>\n",
       "      <td>-371.000000</td>\n",
       "      <td>1.0</td>\n",
       "      <td>0.000000</td>\n",
       "      <td>1.000000</td>\n",
       "      <td>0.000000</td>\n",
       "      <td>3.000000</td>\n",
       "    </tr>\n",
       "    <tr>\n",
       "      <th>max</th>\n",
       "      <td>7.999952e+06</td>\n",
       "      <td>19.000000</td>\n",
       "      <td>6.750000e+06</td>\n",
       "      <td>-7489.000000</td>\n",
       "      <td>365243.000000</td>\n",
       "      <td>1.0</td>\n",
       "      <td>1.000000</td>\n",
       "      <td>1.000000</td>\n",
       "      <td>1.000000</td>\n",
       "      <td>20.000000</td>\n",
       "    </tr>\n",
       "  </tbody>\n",
       "</table>\n",
       "</div>"
      ],
      "text/plain": [
       "                 ID   CNT_CHILDREN  AMT_INCOME_TOTAL     DAYS_BIRTH  \\\n",
       "count  4.385570e+05  438557.000000      4.385570e+05  438557.000000   \n",
       "mean   6.022176e+06       0.427390      1.875243e+05  -15997.904649   \n",
       "std    5.716370e+05       0.724882      1.100869e+05    4185.030007   \n",
       "min    5.008804e+06       0.000000      2.610000e+04  -25201.000000   \n",
       "25%    5.609375e+06       0.000000      1.215000e+05  -19483.000000   \n",
       "50%    6.047745e+06       0.000000      1.607805e+05  -15630.000000   \n",
       "75%    6.456971e+06       1.000000      2.250000e+05  -12514.000000   \n",
       "max    7.999952e+06      19.000000      6.750000e+06   -7489.000000   \n",
       "\n",
       "       DAYS_EMPLOYED  FLAG_MOBIL  FLAG_WORK_PHONE     FLAG_PHONE  \\\n",
       "count  438557.000000    438557.0    438557.000000  438557.000000   \n",
       "mean    60563.675328         1.0         0.206133       0.287771   \n",
       "std    138767.799647         0.0         0.404527       0.452724   \n",
       "min    -17531.000000         1.0         0.000000       0.000000   \n",
       "25%     -3103.000000         1.0         0.000000       0.000000   \n",
       "50%     -1467.000000         1.0         0.000000       0.000000   \n",
       "75%      -371.000000         1.0         0.000000       1.000000   \n",
       "max    365243.000000         1.0         1.000000       1.000000   \n",
       "\n",
       "          FLAG_EMAIL  CNT_FAM_MEMBERS  \n",
       "count  438557.000000    438557.000000  \n",
       "mean        0.108207         2.194465  \n",
       "std         0.310642         0.897207  \n",
       "min         0.000000         1.000000  \n",
       "25%         0.000000         2.000000  \n",
       "50%         0.000000         2.000000  \n",
       "75%         0.000000         3.000000  \n",
       "max         1.000000        20.000000  "
      ]
     },
     "execution_count": 5,
     "metadata": {},
     "output_type": "execute_result"
    }
   ],
   "source": [
    "application_data.describe()"
   ]
  },
  {
   "cell_type": "code",
   "execution_count": 6,
   "id": "7cf10a49",
   "metadata": {},
   "outputs": [],
   "source": [
    "#Data Cleaning"
   ]
  },
  {
   "cell_type": "code",
   "execution_count": 7,
   "id": "c3ad9f28",
   "metadata": {},
   "outputs": [],
   "source": [
    "#Application Data Cleaning"
   ]
  },
  {
   "cell_type": "code",
   "execution_count": 8,
   "id": "1761d014",
   "metadata": {},
   "outputs": [
    {
     "name": "stdout",
     "output_type": "stream",
     "text": [
      "ID                          0\n",
      "CODE_GENDER                 0\n",
      "FLAG_OWN_CAR                0\n",
      "FLAG_OWN_REALTY             0\n",
      "CNT_CHILDREN                0\n",
      "AMT_INCOME_TOTAL            0\n",
      "NAME_INCOME_TYPE            0\n",
      "NAME_EDUCATION_TYPE         0\n",
      "NAME_FAMILY_STATUS          0\n",
      "NAME_HOUSING_TYPE           0\n",
      "DAYS_BIRTH                  0\n",
      "DAYS_EMPLOYED               0\n",
      "FLAG_MOBIL                  0\n",
      "FLAG_WORK_PHONE             0\n",
      "FLAG_PHONE                  0\n",
      "FLAG_EMAIL                  0\n",
      "OCCUPATION_TYPE        134203\n",
      "CNT_FAM_MEMBERS             0\n",
      "dtype: int64\n",
      "ID                     0\n",
      "CODE_GENDER            0\n",
      "FLAG_OWN_CAR           0\n",
      "FLAG_OWN_REALTY        0\n",
      "CNT_CHILDREN           0\n",
      "AMT_INCOME_TOTAL       0\n",
      "NAME_INCOME_TYPE       0\n",
      "NAME_EDUCATION_TYPE    0\n",
      "NAME_FAMILY_STATUS     0\n",
      "NAME_HOUSING_TYPE      0\n",
      "DAYS_BIRTH             0\n",
      "DAYS_EMPLOYED          0\n",
      "FLAG_MOBIL             0\n",
      "FLAG_WORK_PHONE        0\n",
      "FLAG_PHONE             0\n",
      "FLAG_EMAIL             0\n",
      "OCCUPATION_TYPE        0\n",
      "CNT_FAM_MEMBERS        0\n",
      "dtype: int64\n",
      "        ID CODE_GENDER FLAG_OWN_CAR FLAG_OWN_REALTY  CNT_CHILDREN  \\\n",
      "0  5008804           M            Y               Y             0   \n",
      "1  5008805           M            Y               Y             0   \n",
      "2  5008806           M            Y               Y             0   \n",
      "3  5008808           F            N               Y             0   \n",
      "4  5008809           F            N               Y             0   \n",
      "\n",
      "   AMT_INCOME_TOTAL      NAME_INCOME_TYPE            NAME_EDUCATION_TYPE  \\\n",
      "0          427500.0               Working               Higher education   \n",
      "1          427500.0               Working               Higher education   \n",
      "2          112500.0               Working  Secondary / secondary special   \n",
      "3          270000.0  Commercial associate  Secondary / secondary special   \n",
      "4          270000.0  Commercial associate  Secondary / secondary special   \n",
      "\n",
      "     NAME_FAMILY_STATUS  NAME_HOUSING_TYPE  DAYS_BIRTH  DAYS_EMPLOYED  \\\n",
      "0        Civil marriage   Rented apartment      -12005          -4542   \n",
      "1        Civil marriage   Rented apartment      -12005          -4542   \n",
      "2               Married  House / apartment      -21474          -1134   \n",
      "3  Single / not married  House / apartment      -19110          -3051   \n",
      "4  Single / not married  House / apartment      -19110          -3051   \n",
      "\n",
      "   FLAG_MOBIL  FLAG_WORK_PHONE  FLAG_PHONE  FLAG_EMAIL OCCUPATION_TYPE  \\\n",
      "0           1                1           0           0         Unknown   \n",
      "1           1                1           0           0         Unknown   \n",
      "2           1                0           0           0  Security staff   \n",
      "3           1                0           1           1     Sales staff   \n",
      "4           1                0           1           1     Sales staff   \n",
      "\n",
      "   CNT_FAM_MEMBERS  \n",
      "0              2.0  \n",
      "1              2.0  \n",
      "2              2.0  \n",
      "3              1.0  \n",
      "4              1.0  \n"
     ]
    }
   ],
   "source": [
    "# Check for missing values in application data\n",
    "print(application_data.isnull().sum())\n",
    "\n",
    "# Handle missing values in OCCUPATION_TYPE\n",
    "application_data['OCCUPATION_TYPE'].fillna('Unknown', inplace=True)\n",
    "\n",
    "# Verify there are no missing values in critical columns\n",
    "print(application_data.isnull().sum())\n",
    "\n",
    "# Check for duplicates and drop them if any\n",
    "application_data_cleaned = application_data.drop_duplicates()\n",
    "\n",
    "# Display cleaned application data\n",
    "print(application_data_cleaned.head())\n"
   ]
  },
  {
   "cell_type": "code",
   "execution_count": 9,
   "id": "9caa4ac6",
   "metadata": {},
   "outputs": [],
   "source": [
    "#Credit Data Cleaning"
   ]
  },
  {
   "cell_type": "code",
   "execution_count": 10,
   "id": "08b4cea9",
   "metadata": {},
   "outputs": [
    {
     "name": "stdout",
     "output_type": "stream",
     "text": [
      "ID                0\n",
      "MONTHS_BALANCE    0\n",
      "STATUS            0\n",
      "dtype: int64\n",
      "        ID  MONTHS_BALANCE STATUS\n",
      "0  5001711               0      X\n",
      "1  5001711              -1      0\n",
      "2  5001711              -2      0\n",
      "3  5001711              -3      0\n",
      "4  5001712               0      C\n"
     ]
    }
   ],
   "source": [
    "#checking for missing values in credit data\n",
    "print(credit_data.isnull().sum())\n",
    "\n",
    "# Drop rows with missing values if necessary (not common in this dataset)\n",
    "credit_data_cleaned=credit_data.dropna()\n",
    "\n",
    "# Check for duplicates and drop them if any\n",
    "credit_data_cleaned = credit_data_cleaned.drop_duplicates()\n",
    "\n",
    "# Display cleaned credit data\n",
    "print(credit_data_cleaned.head())\n"
   ]
  },
  {
   "cell_type": "code",
   "execution_count": 11,
   "id": "26dd8ffe",
   "metadata": {},
   "outputs": [],
   "source": [
    "#Set up the database"
   ]
  },
  {
   "cell_type": "code",
   "execution_count": 12,
   "id": "61a62591",
   "metadata": {},
   "outputs": [
    {
     "data": {
      "text/plain": [
       "1048575"
      ]
     },
     "execution_count": 12,
     "metadata": {},
     "output_type": "execute_result"
    }
   ],
   "source": [
    "from sqlalchemy import create_engine\n",
    "\n",
    "# Create an engine that connects to an SQLite database\n",
    "engine = create_engine('sqlite:///credit_card_approval.db')\n",
    "\n",
    "# Save cleaned dataframes to SQL tables\n",
    "application_data_cleaned.to_sql('application_record', engine, index=False, if_exists='replace')\n",
    "credit_data_cleaned.to_sql('credit_record', engine, index=False, if_exists='replace')\n"
   ]
  },
  {
   "cell_type": "code",
   "execution_count": 13,
   "id": "8c18f069",
   "metadata": {},
   "outputs": [
    {
     "name": "stdout",
     "output_type": "stream",
     "text": [
      "        ID CODE_GENDER FLAG_OWN_CAR FLAG_OWN_REALTY  CNT_CHILDREN  \\\n",
      "0  5008804           M            Y               Y             0   \n",
      "1  5008805           M            Y               Y             0   \n",
      "2  5008806           M            Y               Y             0   \n",
      "3  5008808           F            N               Y             0   \n",
      "4  5008809           F            N               Y             0   \n",
      "\n",
      "   AMT_INCOME_TOTAL      NAME_INCOME_TYPE            NAME_EDUCATION_TYPE  \\\n",
      "0          427500.0               Working               Higher education   \n",
      "1          427500.0               Working               Higher education   \n",
      "2          112500.0               Working  Secondary / secondary special   \n",
      "3          270000.0  Commercial associate  Secondary / secondary special   \n",
      "4          270000.0  Commercial associate  Secondary / secondary special   \n",
      "\n",
      "     NAME_FAMILY_STATUS  NAME_HOUSING_TYPE  DAYS_BIRTH  DAYS_EMPLOYED  \\\n",
      "0        Civil marriage   Rented apartment      -12005          -4542   \n",
      "1        Civil marriage   Rented apartment      -12005          -4542   \n",
      "2               Married  House / apartment      -21474          -1134   \n",
      "3  Single / not married  House / apartment      -19110          -3051   \n",
      "4  Single / not married  House / apartment      -19110          -3051   \n",
      "\n",
      "   FLAG_MOBIL  FLAG_WORK_PHONE  FLAG_PHONE  FLAG_EMAIL OCCUPATION_TYPE  \\\n",
      "0           1                1           0           0         Unknown   \n",
      "1           1                1           0           0         Unknown   \n",
      "2           1                0           0           0  Security staff   \n",
      "3           1                0           1           1     Sales staff   \n",
      "4           1                0           1           1     Sales staff   \n",
      "\n",
      "   CNT_FAM_MEMBERS  \n",
      "0              2.0  \n",
      "1              2.0  \n",
      "2              2.0  \n",
      "3              1.0  \n",
      "4              1.0  \n",
      "        ID  MONTHS_BALANCE STATUS\n",
      "0  5001711               0      X\n",
      "1  5001711              -1      0\n",
      "2  5001711              -2      0\n",
      "3  5001711              -3      0\n",
      "4  5001712               0      C\n"
     ]
    }
   ],
   "source": [
    "# Check the first few rows of application_record table\n",
    "query = \"SELECT * FROM application_record LIMIT 5\"\n",
    "application_sample = pd.read_sql(query, engine)\n",
    "print(application_sample)\n",
    "\n",
    "# Check the first few rows of credit_record table\n",
    "query = \"SELECT * FROM credit_record LIMIT 5\"\n",
    "credit_sample = pd.read_sql(query, engine)\n",
    "print(credit_sample)\n"
   ]
  },
  {
   "cell_type": "code",
   "execution_count": 14,
   "id": "985cd4cb",
   "metadata": {},
   "outputs": [],
   "source": [
    "#Exploratory Data Analysis(EDA)\n",
    "\n",
    "# Exploratory Data Analysis (EDA) using pandas to understand the distribution and relationships within the data. I'll analyze each feature and its relationship with the target variable (has_delinquency)."
   ]
  },
  {
   "cell_type": "code",
   "execution_count": 15,
   "id": "0caf0951",
   "metadata": {},
   "outputs": [],
   "source": [
    "# CODE_GENDER"
   ]
  },
  {
   "cell_type": "code",
   "execution_count": 16,
   "id": "877f3d40",
   "metadata": {},
   "outputs": [
    {
     "name": "stdout",
     "output_type": "stream",
     "text": [
      "Gender Distribution:\n",
      " F    294440\n",
      "M    144117\n",
      "Name: CODE_GENDER, dtype: int64\n",
      "Gender vs Delinquency:\n",
      "   CODE_GENDER  Total  Delinquent  Delinquency_Rate\n",
      "0           F  24430       379.0          0.015514\n",
      "1           M  12027       237.0          0.019706\n"
     ]
    }
   ],
   "source": [
    "import pandas as pd\n",
    "import matplotlib.pyplot as plt\n",
    "\n",
    "# Distribution of CODE_GENDER\n",
    "gender_distribution = application_data_cleaned['CODE_GENDER'].value_counts()\n",
    "print(\"Gender Distribution:\\n\", gender_distribution)\n",
    "\n",
    "# Analyze relationship with target variable (has_delinquency)\n",
    "delinquency_status = credit_data_cleaned.groupby('ID')['STATUS'].apply(lambda x: 1 if any(i in ['2', '3', '4', '5'] for i in x) else 0).reset_index()\n",
    "delinquency_status.columns = ['ID', 'has_delinquency']\n",
    "\n",
    "merged_data = application_data_cleaned.merge(delinquency_status, on='ID', how='left')\n",
    "\n",
    "gender_delinquency = merged_data.groupby('CODE_GENDER')['has_delinquency'].agg(['count', 'sum']).reset_index()\n",
    "gender_delinquency.columns = ['CODE_GENDER', 'Total', 'Delinquent']\n",
    "gender_delinquency['Delinquency_Rate'] = gender_delinquency['Delinquent'] / gender_delinquency['Total']\n",
    "print(\"Gender vs Delinquency:\\n\", gender_delinquency)\n",
    "\n",
    "\n"
   ]
  },
  {
   "cell_type": "code",
   "execution_count": 17,
   "id": "f7c5675b",
   "metadata": {},
   "outputs": [],
   "source": [
    "# FLAG_OWN_CAR"
   ]
  },
  {
   "cell_type": "code",
   "execution_count": 18,
   "id": "90f9cc53",
   "metadata": {},
   "outputs": [
    {
     "name": "stdout",
     "output_type": "stream",
     "text": [
      "Car Ownership Distribution:\n",
      " N    275459\n",
      "Y    163098\n",
      "Name: FLAG_OWN_CAR, dtype: int64\n",
      "Car Ownership vs Delinquency:\n",
      "   FLAG_OWN_CAR  Total  Delinquent  Delinquency_Rate\n",
      "0            N  22614       392.0          0.017334\n",
      "1            Y  13843       224.0          0.016181\n"
     ]
    }
   ],
   "source": [
    "# Calculate delinquency status for each ID\n",
    "delinquency_status = credit_data_cleaned.groupby('ID')['STATUS'].apply(lambda x: 1 if any(i in ['2', '3', '4', '5'] for i in x) else 0).reset_index()\n",
    "delinquency_status.columns = ['ID', 'has_delinquency']\n",
    "\n",
    "# Merge delinquency status with application data\n",
    "merged_data = application_data_cleaned.merge(delinquency_status, on='ID', how='left')\n",
    "\n",
    "# Distribution of FLAG_OWN_CAR\n",
    "car_ownership_distribution = application_data_cleaned['FLAG_OWN_CAR'].value_counts()\n",
    "print(\"Car Ownership Distribution:\\n\", car_ownership_distribution)\n",
    "\n",
    "# Analyze relationship with target variable (has_delinquency)\n",
    "car_ownership_delinquency = merged_data.groupby('FLAG_OWN_CAR')['has_delinquency'].agg(['count', 'sum']).reset_index()\n",
    "car_ownership_delinquency.columns = ['FLAG_OWN_CAR', 'Total', 'Delinquent']\n",
    "car_ownership_delinquency['Delinquency_Rate'] = car_ownership_delinquency['Delinquent'] / car_ownership_delinquency['Total']\n",
    "print(\"Car Ownership vs Delinquency:\\n\", car_ownership_delinquency)\n",
    "\n",
    "\n"
   ]
  },
  {
   "cell_type": "code",
   "execution_count": 19,
   "id": "0b45b96b",
   "metadata": {},
   "outputs": [],
   "source": [
    "#FLAG_OWN_REALTY"
   ]
  },
  {
   "cell_type": "code",
   "execution_count": 20,
   "id": "384f6044",
   "metadata": {},
   "outputs": [
    {
     "name": "stdout",
     "output_type": "stream",
     "text": [
      "Realty Ownership Distribution:\n",
      " Y    304074\n",
      "N    134483\n",
      "Name: FLAG_OWN_REALTY, dtype: int64\n",
      "Realty Ownership vs Delinquency:\n",
      "   FLAG_OWN_REALTY  Total  Delinquent  Delinquency_Rate\n",
      "0               N  11951       251.0          0.021002\n",
      "1               Y  24506       365.0          0.014894\n"
     ]
    }
   ],
   "source": [
    "# Distribution of FLAG_OWN_REALTY\n",
    "realty_ownership_distribution = application_data_cleaned['FLAG_OWN_REALTY'].value_counts()\n",
    "print(\"Realty Ownership Distribution:\\n\", realty_ownership_distribution)\n",
    "\n",
    "# Analyze relationship with target variable (has_delinquency)\n",
    "realty_ownership_delinquency = merged_data.groupby('FLAG_OWN_REALTY')['has_delinquency'].agg(['count', 'sum']).reset_index()\n",
    "realty_ownership_delinquency.columns = ['FLAG_OWN_REALTY', 'Total', 'Delinquent']\n",
    "realty_ownership_delinquency['Delinquency_Rate'] = realty_ownership_delinquency['Delinquent'] / realty_ownership_delinquency['Total']\n",
    "print(\"Realty Ownership vs Delinquency:\\n\", realty_ownership_delinquency)\n"
   ]
  },
  {
   "cell_type": "code",
   "execution_count": 21,
   "id": "cbb86803",
   "metadata": {},
   "outputs": [],
   "source": [
    "#CNT_CHILDREN"
   ]
  },
  {
   "cell_type": "code",
   "execution_count": 22,
   "id": "faf32887",
   "metadata": {},
   "outputs": [
    {
     "name": "stdout",
     "output_type": "stream",
     "text": [
      "Children Distribution:\n",
      " 0     304071\n",
      "1      88527\n",
      "2      39884\n",
      "3       5430\n",
      "4        486\n",
      "5        133\n",
      "6          4\n",
      "7          9\n",
      "9          5\n",
      "12         4\n",
      "14         3\n",
      "19         1\n",
      "Name: CNT_CHILDREN, dtype: int64\n",
      "Children vs Delinquency:\n",
      "     CNT_CHILDREN  Total  Delinquent  Delinquency_Rate\n",
      "0              0  25201       431.0          0.017102\n",
      "1              1   7492       120.0          0.016017\n",
      "2              2   3256        52.0          0.015971\n",
      "3              3    419        12.0          0.028640\n",
      "4              4     63         1.0          0.015873\n",
      "5              5     20         0.0          0.000000\n",
      "6              6      0         0.0               NaN\n",
      "7              7      2         0.0          0.000000\n",
      "8              9      0         0.0               NaN\n",
      "9             12      0         0.0               NaN\n",
      "10            14      3         0.0          0.000000\n",
      "11            19      1         0.0          0.000000\n"
     ]
    }
   ],
   "source": [
    "# Distribution of CNT_CHILDREN\n",
    "children_distribution = application_data_cleaned['CNT_CHILDREN'].value_counts().sort_index()\n",
    "print(\"Children Distribution:\\n\", children_distribution)\n",
    "\n",
    "# Analyze relationship with target variable (has_delinquency)\n",
    "children_delinquency = merged_data.groupby('CNT_CHILDREN')['has_delinquency'].agg(['count', 'sum']).reset_index()\n",
    "children_delinquency.columns = ['CNT_CHILDREN', 'Total', 'Delinquent']\n",
    "children_delinquency['Delinquency_Rate'] = children_delinquency['Delinquent'] / children_delinquency['Total']\n",
    "print(\"Children vs Delinquency:\\n\", children_delinquency)\n"
   ]
  },
  {
   "cell_type": "code",
   "execution_count": 23,
   "id": "34732308",
   "metadata": {},
   "outputs": [],
   "source": [
    "#AMT_INCOME_TOTAL"
   ]
  },
  {
   "cell_type": "code",
   "execution_count": 24,
   "id": "81b4166a",
   "metadata": {},
   "outputs": [
    {
     "name": "stdout",
     "output_type": "stream",
     "text": [
      "Income Distribution:\n",
      " count    4.385570e+05\n",
      "mean     1.875243e+05\n",
      "std      1.100869e+05\n",
      "min      2.610000e+04\n",
      "25%      1.215000e+05\n",
      "50%      1.607805e+05\n",
      "75%      2.250000e+05\n",
      "max      6.750000e+06\n",
      "Name: AMT_INCOME_TOTAL, dtype: float64\n",
      "Income vs Delinquency:\n",
      "      AMT_INCOME_TOTAL_BIN  Total  Delinquent  Delinquency_Rate\n",
      "0     (19376.1, 698490.0]  36338       614.0          0.016897\n",
      "1   (698490.0, 1370880.0]    111         2.0          0.018018\n",
      "2  (1370880.0, 2043270.0]      8         0.0          0.000000\n",
      "3  (2043270.0, 2715660.0]      0         0.0               NaN\n",
      "4  (2715660.0, 3388050.0]      0         0.0               NaN\n",
      "5  (3388050.0, 4060440.0]      0         0.0               NaN\n",
      "6  (4060440.0, 4732830.0]      0         0.0               NaN\n",
      "7  (4732830.0, 5405220.0]      0         0.0               NaN\n",
      "8  (5405220.0, 6077610.0]      0         0.0               NaN\n",
      "9  (6077610.0, 6750000.0]      0         0.0               NaN\n"
     ]
    }
   ],
   "source": [
    "# Distribution of AMT_INCOME_TOTAL\n",
    "income_distribution = application_data_cleaned['AMT_INCOME_TOTAL'].describe()\n",
    "print(\"Income Distribution:\\n\", income_distribution)\n",
    "\n",
    "# Analyze relationship with target variable (has_delinquency)\n",
    "income_delinquency = merged_data.groupby(pd.cut(merged_data['AMT_INCOME_TOTAL'], bins=10))['has_delinquency'].agg(['count', 'sum']).reset_index()\n",
    "income_delinquency.columns = ['AMT_INCOME_TOTAL_BIN', 'Total', 'Delinquent']\n",
    "income_delinquency['Delinquency_Rate'] = income_delinquency['Delinquent'] / income_delinquency['Total']\n",
    "print(\"Income vs Delinquency:\\n\", income_delinquency)\n"
   ]
  },
  {
   "cell_type": "code",
   "execution_count": 25,
   "id": "ea1b9d72",
   "metadata": {},
   "outputs": [],
   "source": [
    "#NAME_INCOME_TYPE"
   ]
  },
  {
   "cell_type": "code",
   "execution_count": 26,
   "id": "0e68811c",
   "metadata": {},
   "outputs": [
    {
     "name": "stdout",
     "output_type": "stream",
     "text": [
      "Income Type Distribution:\n",
      " Working                 226104\n",
      "Commercial associate    100757\n",
      "Pensioner                75493\n",
      "State servant            36186\n",
      "Student                     17\n",
      "Name: NAME_INCOME_TYPE, dtype: int64\n",
      "Income Type vs Delinquency:\n",
      "        NAME_INCOME_TYPE  Total  Delinquent  Delinquency_Rate\n",
      "0  Commercial associate   8490       143.0          0.016843\n",
      "1             Pensioner   6152       130.0          0.021131\n",
      "2         State servant   2985        37.0          0.012395\n",
      "3               Student     11         0.0          0.000000\n",
      "4               Working  18819       306.0          0.016260\n"
     ]
    }
   ],
   "source": [
    "# Distribution of NAME_INCOME_TYPE\n",
    "income_type_distribution = application_data_cleaned['NAME_INCOME_TYPE'].value_counts()\n",
    "print(\"Income Type Distribution:\\n\", income_type_distribution)\n",
    "\n",
    "# Analyze relationship with target variable (has_delinquency)\n",
    "income_type_delinquency = merged_data.groupby('NAME_INCOME_TYPE')['has_delinquency'].agg(['count', 'sum']).reset_index()\n",
    "income_type_delinquency.columns = ['NAME_INCOME_TYPE', 'Total', 'Delinquent']\n",
    "income_type_delinquency['Delinquency_Rate'] = income_type_delinquency['Delinquent'] / income_type_delinquency['Total']\n",
    "print(\"Income Type vs Delinquency:\\n\", income_type_delinquency)\n"
   ]
  },
  {
   "cell_type": "code",
   "execution_count": 27,
   "id": "2477bada",
   "metadata": {},
   "outputs": [],
   "source": [
    "#NAME_EDUCATION_TYPE"
   ]
  },
  {
   "cell_type": "code",
   "execution_count": 28,
   "id": "871b6ceb",
   "metadata": {},
   "outputs": [
    {
     "name": "stdout",
     "output_type": "stream",
     "text": [
      "Education Type Distribution:\n",
      " Secondary / secondary special    301821\n",
      "Higher education                 117522\n",
      "Incomplete higher                 14851\n",
      "Lower secondary                    4051\n",
      "Academic degree                     312\n",
      "Name: NAME_EDUCATION_TYPE, dtype: int64\n",
      "Education Type vs Delinquency:\n",
      "              NAME_EDUCATION_TYPE  Total  Delinquent  Delinquency_Rate\n",
      "0                Academic degree     32         0.0          0.000000\n",
      "1               Higher education   9864       171.0          0.017336\n",
      "2              Incomplete higher   1410        33.0          0.023404\n",
      "3                Lower secondary    374        10.0          0.026738\n",
      "4  Secondary / secondary special  24777       402.0          0.016225\n"
     ]
    }
   ],
   "source": [
    "# Distribution of NAME_EDUCATION_TYPE\n",
    "education_type_distribution = application_data_cleaned['NAME_EDUCATION_TYPE'].value_counts()\n",
    "print(\"Education Type Distribution:\\n\", education_type_distribution)\n",
    "\n",
    "# Analyze relationship with target variable (has_delinquency)\n",
    "education_type_delinquency = merged_data.groupby('NAME_EDUCATION_TYPE')['has_delinquency'].agg(['count', 'sum']).reset_index()\n",
    "education_type_delinquency.columns = ['NAME_EDUCATION_TYPE', 'Total', 'Delinquent']\n",
    "education_type_delinquency['Delinquency_Rate'] = education_type_delinquency['Delinquent'] / education_type_delinquency['Total']\n",
    "print(\"Education Type vs Delinquency:\\n\", education_type_delinquency)\n"
   ]
  },
  {
   "cell_type": "code",
   "execution_count": 29,
   "id": "e2fc72f5",
   "metadata": {},
   "outputs": [],
   "source": [
    "#NAME_FAMILY_STATUS"
   ]
  },
  {
   "cell_type": "code",
   "execution_count": 30,
   "id": "404aca28",
   "metadata": {},
   "outputs": [
    {
     "name": "stdout",
     "output_type": "stream",
     "text": [
      "Family Status Distribution:\n",
      " Married                 299828\n",
      "Single / not married     55271\n",
      "Civil marriage           36532\n",
      "Separated                27251\n",
      "Widow                    19675\n",
      "Name: NAME_FAMILY_STATUS, dtype: int64\n",
      "Family Status vs Delinquency:\n",
      "      NAME_FAMILY_STATUS  Total  Delinquent  Delinquency_Rate\n",
      "0        Civil marriage   2945        46.0          0.015620\n",
      "1               Married  25048       393.0          0.015690\n",
      "2             Separated   2103        31.0          0.014741\n",
      "3  Single / not married   4829       101.0          0.020915\n",
      "4                 Widow   1532        45.0          0.029373\n"
     ]
    }
   ],
   "source": [
    "# Distribution of NAME_FAMILY_STATUS\n",
    "family_status_distribution = application_data_cleaned['NAME_FAMILY_STATUS'].value_counts()\n",
    "print(\"Family Status Distribution:\\n\", family_status_distribution)\n",
    "\n",
    "# Analyze relationship with target variable (has_delinquency)\n",
    "family_status_delinquency = merged_data.groupby('NAME_FAMILY_STATUS')['has_delinquency'].agg(['count', 'sum']).reset_index()\n",
    "family_status_delinquency.columns = ['NAME_FAMILY_STATUS', 'Total', 'Delinquent']\n",
    "family_status_delinquency['Delinquency_Rate'] = family_status_delinquency['Delinquent'] / family_status_delinquency['Total']\n",
    "print(\"Family Status vs Delinquency:\\n\", family_status_delinquency)\n"
   ]
  },
  {
   "cell_type": "code",
   "execution_count": 31,
   "id": "110bfd49",
   "metadata": {},
   "outputs": [],
   "source": [
    "# NAME_HOUSING_TYPE"
   ]
  },
  {
   "cell_type": "code",
   "execution_count": 32,
   "id": "4c6f67f3",
   "metadata": {},
   "outputs": [
    {
     "name": "stdout",
     "output_type": "stream",
     "text": [
      "Housing Type Distribution:\n",
      " House / apartment      393831\n",
      "With parents            19077\n",
      "Municipal apartment     14214\n",
      "Rented apartment         5974\n",
      "Office apartment         3922\n",
      "Co-op apartment          1539\n",
      "Name: NAME_HOUSING_TYPE, dtype: int64\n",
      "Housing Type vs Delinquency:\n",
      "      NAME_HOUSING_TYPE  Total  Delinquent  Delinquency_Rate\n",
      "0      Co-op apartment    168         3.0          0.017857\n",
      "1    House / apartment  32548       540.0          0.016591\n",
      "2  Municipal apartment   1128        30.0          0.026596\n",
      "3     Office apartment    262         9.0          0.034351\n",
      "4     Rented apartment    575         8.0          0.013913\n",
      "5         With parents   1776        26.0          0.014640\n"
     ]
    }
   ],
   "source": [
    "# Distribution of NAME_HOUSING_TYPE\n",
    "housing_type_distribution = application_data_cleaned['NAME_HOUSING_TYPE'].value_counts()\n",
    "print(\"Housing Type Distribution:\\n\", housing_type_distribution)\n",
    "\n",
    "# Analyze relationship with target variable (has_delinquency)\n",
    "housing_type_delinquency = merged_data.groupby('NAME_HOUSING_TYPE')['has_delinquency'].agg(['count', 'sum']).reset_index()\n",
    "housing_type_delinquency.columns = ['NAME_HOUSING_TYPE', 'Total', 'Delinquent']\n",
    "housing_type_delinquency['Delinquency_Rate'] = housing_type_delinquency['Delinquent'] / housing_type_delinquency['Total']\n",
    "print(\"Housing Type vs Delinquency:\\n\", housing_type_delinquency)\n"
   ]
  },
  {
   "cell_type": "code",
   "execution_count": 33,
   "id": "5d7b092b",
   "metadata": {},
   "outputs": [],
   "source": [
    "#DAYS_BIRTH to AGE and DAYS_EMPLOYED to YEARS_EMPLOYED"
   ]
  },
  {
   "cell_type": "code",
   "execution_count": 34,
   "id": "e1cc3074",
   "metadata": {},
   "outputs": [
    {
     "name": "stdout",
     "output_type": "stream",
     "text": [
      "Age Distribution:\n",
      " count    438557.000000\n",
      "mean         43.829876\n",
      "std          11.465836\n",
      "min          20.517808\n",
      "25%          34.284932\n",
      "50%          42.821918\n",
      "75%          53.378082\n",
      "max          69.043836\n",
      "Name: AGE, dtype: float64\n",
      "Age vs Delinquency:\n",
      "             AGE_BIN  Total  Delinquent  Delinquency_Rate\n",
      "0   (20.469, 25.37]    881        15.0          0.017026\n",
      "1   (25.37, 30.223]   4284        89.0          0.020775\n",
      "2  (30.223, 35.076]   4931        87.0          0.017643\n",
      "3  (35.076, 39.928]   5205        73.0          0.014025\n",
      "4  (39.928, 44.781]   4981        69.0          0.013853\n",
      "5  (44.781, 49.633]   4089        70.0          0.017119\n",
      "6  (49.633, 54.486]   3943        77.0          0.019528\n",
      "7  (54.486, 59.339]   3717        68.0          0.018294\n",
      "8  (59.339, 64.191]   3280        49.0          0.014939\n",
      "9  (64.191, 69.044]   1146        19.0          0.016579\n",
      "Years Employed Distribution:\n",
      " count    438557.000000\n",
      "mean       -165.927878\n",
      "std         380.185752\n",
      "min       -1000.665753\n",
      "25%           1.016438\n",
      "50%           4.019178\n",
      "75%           8.501370\n",
      "max          48.030137\n",
      "Name: YEARS_EMPLOYED, dtype: float64\n",
      "Years Employed vs Delinquency:\n",
      "       YEARS_EMPLOYED_BIN  Total  Delinquent  Delinquency_Rate\n",
      "0  (-1001.714, -895.796]   6135       113.0          0.018419\n",
      "1   (-895.796, -790.927]      0         0.0               NaN\n",
      "2   (-790.927, -686.057]      0         0.0               NaN\n",
      "3   (-686.057, -581.187]      0         0.0               NaN\n",
      "4   (-581.187, -476.318]      0         0.0               NaN\n",
      "5   (-476.318, -371.448]      0         0.0               NaN\n",
      "6   (-371.448, -266.579]      0         0.0               NaN\n",
      "7   (-266.579, -161.709]      0         0.0               NaN\n",
      "8    (-161.709, -56.839]      0         0.0               NaN\n",
      "9       (-56.839, 48.03]  30322       503.0          0.016589\n"
     ]
    }
   ],
   "source": [
    "# Convert DAYS_BIRTH to AGE and DAYS_EMPLOYED to YEARS_EMPLOYED in the cleaned application data\n",
    "application_data_cleaned['AGE'] = application_data_cleaned['DAYS_BIRTH'] / -365\n",
    "application_data_cleaned['YEARS_EMPLOYED'] = application_data_cleaned['DAYS_EMPLOYED'] / -365\n",
    "\n",
    "# Merge the new features with the delinquency status\n",
    "merged_data = application_data_cleaned.merge(delinquency_status, on='ID', how='left')\n",
    "\n",
    "# Distribution of AGE\n",
    "age_distribution = application_data_cleaned['AGE'].describe()\n",
    "print(\"Age Distribution:\\n\", age_distribution)\n",
    "\n",
    "# Analyze relationship with target variable (has_delinquency)\n",
    "age_delinquency = merged_data.groupby(pd.cut(merged_data['AGE'], bins=10))['has_delinquency'].agg(['count', 'sum']).reset_index()\n",
    "age_delinquency.columns = ['AGE_BIN', 'Total', 'Delinquent']\n",
    "age_delinquency['Delinquency_Rate'] = age_delinquency['Delinquent'] / age_delinquency['Total']\n",
    "print(\"Age vs Delinquency:\\n\", age_delinquency)\n",
    "\n",
    "# Distribution of YEARS_EMPLOYED\n",
    "years_employed_distribution = application_data_cleaned['YEARS_EMPLOYED'].describe()\n",
    "print(\"Years Employed Distribution:\\n\", years_employed_distribution)\n",
    "\n",
    "# Analyze relationship with target variable (has_delinquency)\n",
    "years_employed_delinquency = merged_data.groupby(pd.cut(merged_data['YEARS_EMPLOYED'], bins=10))['has_delinquency'].agg(['count', 'sum']).reset_index()\n",
    "years_employed_delinquency.columns = ['YEARS_EMPLOYED_BIN', 'Total', 'Delinquent']\n",
    "years_employed_delinquency['Delinquency_Rate'] = years_employed_delinquency['Delinquent'] / years_employed_delinquency['Total']\n",
    "print(\"Years Employed vs Delinquency:\\n\", years_employed_delinquency)\n",
    "\n"
   ]
  },
  {
   "cell_type": "code",
   "execution_count": 35,
   "id": "fa4f1616",
   "metadata": {},
   "outputs": [],
   "source": [
    "#Step 1: Feature Engineering\n",
    "#Based on the insights from EDA, create new features that might improve the model's performance."
   ]
  },
  {
   "cell_type": "code",
   "execution_count": 36,
   "id": "fa00c45b",
   "metadata": {},
   "outputs": [
    {
     "name": "stdout",
     "output_type": "stream",
     "text": [
      "         AGE  YEARS_EMPLOYED  INCOME_PER_FAM_MEMBER\n",
      "0  32.890411       12.443836               213750.0\n",
      "1  32.890411       12.443836               213750.0\n",
      "2  58.832877        3.106849                56250.0\n",
      "3  52.356164        8.358904               270000.0\n",
      "4  52.356164        8.358904               270000.0\n"
     ]
    }
   ],
   "source": [
    "# Create new features\n",
    "application_data_cleaned['AGE'] = application_data_cleaned['DAYS_BIRTH'] / -365\n",
    "application_data_cleaned['YEARS_EMPLOYED'] = application_data_cleaned['DAYS_EMPLOYED'] / -365\n",
    "application_data_cleaned['INCOME_PER_FAM_MEMBER'] = application_data_cleaned['AMT_INCOME_TOTAL'] / application_data_cleaned['CNT_FAM_MEMBERS']\n",
    "\n",
    "# Save the updated dataframe\n",
    "application_data_cleaned.to_csv('application_record_feature_engineered.csv', index=False)\n",
    "\n",
    "# Verify the new features\n",
    "print(application_data_cleaned[['AGE', 'YEARS_EMPLOYED', 'INCOME_PER_FAM_MEMBER']].head())\n"
   ]
  },
  {
   "cell_type": "code",
   "execution_count": 37,
   "id": "5fd2b1be",
   "metadata": {},
   "outputs": [],
   "source": [
    "#Step 2: Data Preparation\n",
    "#Encode categorical variables, split data into training and testing sets, and scale the features."
   ]
  },
  {
   "cell_type": "code",
   "execution_count": 38,
   "id": "05e5bf18",
   "metadata": {},
   "outputs": [],
   "source": [
    "from sklearn.model_selection import train_test_split\n",
    "from sklearn.preprocessing import LabelEncoder, StandardScaler\n",
    "\n",
    "# Encode categorical variables\n",
    "categorical_columns = ['CODE_GENDER', 'FLAG_OWN_CAR', 'FLAG_OWN_REALTY', 'NAME_INCOME_TYPE', 'NAME_EDUCATION_TYPE', 'NAME_FAMILY_STATUS', 'NAME_HOUSING_TYPE', 'OCCUPATION_TYPE']\n",
    "label_encoders = {}\n",
    "\n",
    "for column in categorical_columns:\n",
    "    le = LabelEncoder()\n",
    "    application_data_cleaned[column] = le.fit_transform(application_data_cleaned[column].astype(str))\n",
    "    label_encoders[column] = le\n",
    "\n",
    "# Define features and target variable\n",
    "X = application_data_cleaned.drop(columns=['ID', 'DAYS_BIRTH', 'DAYS_EMPLOYED'])\n",
    "y = merged_data['has_delinquency']\n",
    "\n",
    "# Split the data into training and testing sets\n",
    "X_train, X_test, y_train, y_test = train_test_split(X, y, test_size=0.2, random_state=42)\n",
    "\n",
    "# Feature scaling\n",
    "scaler = StandardScaler()\n",
    "X_train_scaled = scaler.fit_transform(X_train)\n",
    "X_test_scaled = scaler.transform(X_test)\n"
   ]
  },
  {
   "cell_type": "code",
   "execution_count": 39,
   "id": "85b9e014",
   "metadata": {},
   "outputs": [],
   "source": [
    "#Step 3: Handling Imbalanced Data\n",
    "#Use SMOTE to balance the training data."
   ]
  },
  {
   "cell_type": "code",
   "execution_count": 40,
   "id": "b4b759a4",
   "metadata": {},
   "outputs": [],
   "source": [
    "import os\n",
    "\n",
    "os.environ[\"OMP_NUM_THREADS\"] = \"1\"\n",
    "os.environ[\"MKL_NUM_THREADS\"] = \"1\"\n",
    "os.environ[\"OPENBLAS_NUM_THREADS\"] = \"1\"\n",
    "os.environ[\"NUMEXPR_NUM_THREADS\"] = \"1\"\n"
   ]
  },
  {
   "cell_type": "code",
   "execution_count": 41,
   "id": "dfcb8362",
   "metadata": {},
   "outputs": [
    {
     "name": "stdout",
     "output_type": "stream",
     "text": [
      "Number of NaN values in y_train: 0\n"
     ]
    }
   ],
   "source": [
    "# Fill NaN values in the target variable with 0 or any appropriate value\n",
    "y_train = y_train.fillna(0)\n",
    "\n",
    "# Verify there are no NaN values in y_train\n",
    "print(f\"Number of NaN values in y_train: {y_train.isna().sum()}\")\n"
   ]
  },
  {
   "cell_type": "code",
   "execution_count": 42,
   "id": "8e3fafe5",
   "metadata": {},
   "outputs": [
    {
     "name": "stdout",
     "output_type": "stream",
     "text": [
      "Original training set shape: Counter({0.0: 350339, 1.0: 506})\n",
      "Resampled training set shape: Counter({0.0: 350339, 1.0: 350339})\n"
     ]
    }
   ],
   "source": [
    "from imblearn.over_sampling import RandomOverSampler\n",
    "from collections import Counter\n",
    "\n",
    "# Initialize RandomOverSampler\n",
    "ros = RandomOverSampler(random_state=42)\n",
    "\n",
    "# Apply RandomOverSampler to the training data\n",
    "X_train_ros, y_train_ros = ros.fit_resample(X_train_scaled, y_train)\n",
    "\n",
    "# Verify the new training data distribution\n",
    "print(f\"Original training set shape: {Counter(y_train)}\")\n",
    "print(f\"Resampled training set shape: {Counter(y_train_ros)}\")\n"
   ]
  },
  {
   "cell_type": "code",
   "execution_count": 43,
   "id": "09da0869",
   "metadata": {},
   "outputs": [],
   "source": [
    "#Step 4: Model Building and Evaluation\n",
    "#Train and evaluate logistic regression and random forest models."
   ]
  },
  {
   "cell_type": "code",
   "execution_count": 44,
   "id": "169ed236",
   "metadata": {},
   "outputs": [],
   "source": [
    "from sklearn.linear_model import LogisticRegression\n",
    "from sklearn.metrics import accuracy_score, precision_score, recall_score, f1_score, confusion_matrix, classification_report, roc_curve, auc\n",
    "import matplotlib.pyplot as plt\n",
    "import seaborn as sns\n",
    "import numpy as np\n"
   ]
  },
  {
   "cell_type": "code",
   "execution_count": 45,
   "id": "8cb0b9da",
   "metadata": {},
   "outputs": [
    {
     "data": {
      "text/html": [
       "<style>#sk-container-id-1 {color: black;}#sk-container-id-1 pre{padding: 0;}#sk-container-id-1 div.sk-toggleable {background-color: white;}#sk-container-id-1 label.sk-toggleable__label {cursor: pointer;display: block;width: 100%;margin-bottom: 0;padding: 0.3em;box-sizing: border-box;text-align: center;}#sk-container-id-1 label.sk-toggleable__label-arrow:before {content: \"▸\";float: left;margin-right: 0.25em;color: #696969;}#sk-container-id-1 label.sk-toggleable__label-arrow:hover:before {color: black;}#sk-container-id-1 div.sk-estimator:hover label.sk-toggleable__label-arrow:before {color: black;}#sk-container-id-1 div.sk-toggleable__content {max-height: 0;max-width: 0;overflow: hidden;text-align: left;background-color: #f0f8ff;}#sk-container-id-1 div.sk-toggleable__content pre {margin: 0.2em;color: black;border-radius: 0.25em;background-color: #f0f8ff;}#sk-container-id-1 input.sk-toggleable__control:checked~div.sk-toggleable__content {max-height: 200px;max-width: 100%;overflow: auto;}#sk-container-id-1 input.sk-toggleable__control:checked~label.sk-toggleable__label-arrow:before {content: \"▾\";}#sk-container-id-1 div.sk-estimator input.sk-toggleable__control:checked~label.sk-toggleable__label {background-color: #d4ebff;}#sk-container-id-1 div.sk-label input.sk-toggleable__control:checked~label.sk-toggleable__label {background-color: #d4ebff;}#sk-container-id-1 input.sk-hidden--visually {border: 0;clip: rect(1px 1px 1px 1px);clip: rect(1px, 1px, 1px, 1px);height: 1px;margin: -1px;overflow: hidden;padding: 0;position: absolute;width: 1px;}#sk-container-id-1 div.sk-estimator {font-family: monospace;background-color: #f0f8ff;border: 1px dotted black;border-radius: 0.25em;box-sizing: border-box;margin-bottom: 0.5em;}#sk-container-id-1 div.sk-estimator:hover {background-color: #d4ebff;}#sk-container-id-1 div.sk-parallel-item::after {content: \"\";width: 100%;border-bottom: 1px solid gray;flex-grow: 1;}#sk-container-id-1 div.sk-label:hover label.sk-toggleable__label {background-color: #d4ebff;}#sk-container-id-1 div.sk-serial::before {content: \"\";position: absolute;border-left: 1px solid gray;box-sizing: border-box;top: 0;bottom: 0;left: 50%;z-index: 0;}#sk-container-id-1 div.sk-serial {display: flex;flex-direction: column;align-items: center;background-color: white;padding-right: 0.2em;padding-left: 0.2em;position: relative;}#sk-container-id-1 div.sk-item {position: relative;z-index: 1;}#sk-container-id-1 div.sk-parallel {display: flex;align-items: stretch;justify-content: center;background-color: white;position: relative;}#sk-container-id-1 div.sk-item::before, #sk-container-id-1 div.sk-parallel-item::before {content: \"\";position: absolute;border-left: 1px solid gray;box-sizing: border-box;top: 0;bottom: 0;left: 50%;z-index: -1;}#sk-container-id-1 div.sk-parallel-item {display: flex;flex-direction: column;z-index: 1;position: relative;background-color: white;}#sk-container-id-1 div.sk-parallel-item:first-child::after {align-self: flex-end;width: 50%;}#sk-container-id-1 div.sk-parallel-item:last-child::after {align-self: flex-start;width: 50%;}#sk-container-id-1 div.sk-parallel-item:only-child::after {width: 0;}#sk-container-id-1 div.sk-dashed-wrapped {border: 1px dashed gray;margin: 0 0.4em 0.5em 0.4em;box-sizing: border-box;padding-bottom: 0.4em;background-color: white;}#sk-container-id-1 div.sk-label label {font-family: monospace;font-weight: bold;display: inline-block;line-height: 1.2em;}#sk-container-id-1 div.sk-label-container {text-align: center;}#sk-container-id-1 div.sk-container {/* jupyter's `normalize.less` sets `[hidden] { display: none; }` but bootstrap.min.css set `[hidden] { display: none !important; }` so we also need the `!important` here to be able to override the default hidden behavior on the sphinx rendered scikit-learn.org. See: https://github.com/scikit-learn/scikit-learn/issues/21755 */display: inline-block !important;position: relative;}#sk-container-id-1 div.sk-text-repr-fallback {display: none;}</style><div id=\"sk-container-id-1\" class=\"sk-top-container\"><div class=\"sk-text-repr-fallback\"><pre>LogisticRegression(class_weight=&#x27;balanced&#x27;, random_state=42)</pre><b>In a Jupyter environment, please rerun this cell to show the HTML representation or trust the notebook. <br />On GitHub, the HTML representation is unable to render, please try loading this page with nbviewer.org.</b></div><div class=\"sk-container\" hidden><div class=\"sk-item\"><div class=\"sk-estimator sk-toggleable\"><input class=\"sk-toggleable__control sk-hidden--visually\" id=\"sk-estimator-id-1\" type=\"checkbox\" checked><label for=\"sk-estimator-id-1\" class=\"sk-toggleable__label sk-toggleable__label-arrow\">LogisticRegression</label><div class=\"sk-toggleable__content\"><pre>LogisticRegression(class_weight=&#x27;balanced&#x27;, random_state=42)</pre></div></div></div></div></div>"
      ],
      "text/plain": [
       "LogisticRegression(class_weight='balanced', random_state=42)"
      ]
     },
     "execution_count": 45,
     "metadata": {},
     "output_type": "execute_result"
    }
   ],
   "source": [
    "# Initialize and train the logistic regression model\n",
    "model = LogisticRegression(random_state=42, class_weight='balanced')\n",
    "model.fit(X_train_ros, y_train_ros)\n"
   ]
  },
  {
   "cell_type": "code",
   "execution_count": 46,
   "id": "798907e8",
   "metadata": {},
   "outputs": [
    {
     "name": "stdout",
     "output_type": "stream",
     "text": [
      "Training Accuracy: 0.5668680906207987\n",
      "Training Precision: 0.56986124075162\n",
      "Training Recall: 0.5454459823199815\n",
      "Training F1 Score: 0.5573863735802167\n"
     ]
    }
   ],
   "source": [
    "# Evaluate on training data\n",
    "logistic_train_predictions = model.predict(X_train_ros)\n",
    "print(f\"Training Accuracy: {accuracy_score(y_train_ros, logistic_train_predictions)}\")\n",
    "print(f\"Training Precision: {precision_score(y_train_ros, logistic_train_predictions)}\")\n",
    "print(f\"Training Recall: {recall_score(y_train_ros, logistic_train_predictions)}\")\n",
    "print(f\"Training F1 Score: {f1_score(y_train_ros, logistic_train_predictions)}\")\n"
   ]
  },
  {
   "cell_type": "code",
   "execution_count": 47,
   "id": "f01c2266",
   "metadata": {},
   "outputs": [],
   "source": [
    "# Make predictions on the test set\n",
    "y_pred = model.predict(X_test_scaled)\n",
    "y_prob = model.predict_proba(X_test_scaled)[:, 1]\n",
    "\n",
    "# Ensure no NaN values in the test target variable\n",
    "y_test = y_test.fillna(0)\n"
   ]
  },
  {
   "cell_type": "code",
   "execution_count": 48,
   "id": "b99d1766",
   "metadata": {},
   "outputs": [
    {
     "name": "stdout",
     "output_type": "stream",
     "text": [
      "Test Accuracy: 0.5910593761400948\n",
      "Test Precision: 0.0016445076232683893\n",
      "Test Recall: 0.5363636363636364\n",
      "Test F1 Score: 0.0032789618473337595\n",
      "Confusion Matrix:\n",
      "[[51784 35818]\n",
      " [   51    59]]\n",
      "Classification Report:\n",
      "              precision    recall  f1-score   support\n",
      "\n",
      "         0.0       1.00      0.59      0.74     87602\n",
      "         1.0       0.00      0.54      0.00       110\n",
      "\n",
      "    accuracy                           0.59     87712\n",
      "   macro avg       0.50      0.56      0.37     87712\n",
      "weighted avg       1.00      0.59      0.74     87712\n",
      "\n"
     ]
    }
   ],
   "source": [
    "# Evaluate on test data\n",
    "print(f\"Test Accuracy: {accuracy_score(y_test, y_pred)}\")\n",
    "print(f\"Test Precision: {precision_score(y_test, y_pred)}\")\n",
    "print(f\"Test Recall: {recall_score(y_test, y_pred)}\")\n",
    "print(f\"Test F1 Score: {f1_score(y_test, y_pred)}\")\n",
    "print(f\"Confusion Matrix:\\n{confusion_matrix(y_test, y_pred)}\")\n",
    "print(f\"Classification Report:\\n{classification_report(y_test, y_pred)}\")\n"
   ]
  },
  {
   "cell_type": "code",
   "execution_count": 49,
   "id": "4a13cd45",
   "metadata": {},
   "outputs": [
    {
     "data": {
      "image/png": "[encoded data removed]",
      "text/plain": [
       "<Figure size 576x432 with 1 Axes>"
      ]
     },
     "metadata": {
      "needs_background": "light"
     },
     "output_type": "display_data"
    }
   ],
   "source": [
    "# Plotting the ROC curve\n",
    "fpr, tpr, _ = roc_curve(y_test, y_prob)\n",
    "roc_auc = auc(fpr, tpr)\n",
    "\n",
    "plt.figure(figsize=(8, 6))\n",
    "plt.plot(fpr, tpr, color='blue', lw=2, label='ROC curve (area = %0.2f)' % roc_auc)\n",
    "plt.plot([0, 1], [0, 1], color='gray', lw=2, linestyle='--')\n",
    "plt.xlim([0.0, 1.0])\n",
    "plt.ylim([0.0, 1.05])\n",
    "plt.xlabel('False Positive Rate')\n",
    "plt.ylabel('True Positive Rate')\n",
    "plt.title('Receiver Operating Characteristic (ROC) Curve')\n",
    "plt.legend(loc=\"lower right\")\n",
    "plt.show()\n"
   ]
  },
  {
   "cell_type": "code",
   "execution_count": 50,
   "id": "56a037a0",
   "metadata": {},
   "outputs": [
    {
     "data": {
      "text/plain": [
       "['logistic_regression_model.pkl']"
      ]
     },
     "execution_count": 50,
     "metadata": {},
     "output_type": "execute_result"
    }
   ],
   "source": [
    "import joblib\n",
    "\n",
    "# Save the logistic regression model\n",
    "joblib.dump(model, 'logistic_regression_model.pkl')\n"
   ]
  },
  {
   "cell_type": "code",
   "execution_count": 51,
   "id": "535ac5d6",
   "metadata": {},
   "outputs": [
    {
     "name": "stdout",
     "output_type": "stream",
     "text": [
      "2.2.2\n"
     ]
    }
   ],
   "source": [
    "import flask\n",
    "print(flask.__version__)\n"
   ]
  },
  {
   "cell_type": "code",
   "execution_count": null,
   "id": "fcf1d6b3",
   "metadata": {},
   "outputs": [],
   "source": [
    "#Test the API\n",
    "#Use the following code to test the Flask API from a Jupyter notebook or another Python script."
   ]
  },
  {
   "cell_type": "code",
   "execution_count": 53,
   "id": "98d3fe90",
   "metadata": {},
   "outputs": [
    {
     "name": "stdout",
     "output_type": "stream",
     "text": [
      "{'logistic_regression_prediction': 0}\n"
     ]
    }
   ],
   "source": [
    "import requests\n",
    "\n",
    "url = 'http://127.0.0.1:5000/predict'  # Use 127.0.0.1 instead of 0.0.0.0\n",
    "\n",
    "# Example feature set for prediction\n",
    "features = [30, 50000, 2, 0, 1, 5, 2, 1, 1000, 750, 20, 1, 0, 700, 1, 2, 3, 0.5]\n",
    "\n",
    "response = requests.post(url, json={'features': features})\n",
    "print(response.json())\n"
   ]
  },
  {
   "cell_type": "code",
   "execution_count": 54,
   "id": "c5222d75",
   "metadata": {},
   "outputs": [
    {
     "name": "stdout",
     "output_type": "stream",
     "text": [
      "Best Parameters for Logistic Regression: {'C': 1, 'penalty': 'l2', 'solver': 'liblinear'}\n",
      "Best Score for Logistic Regression: 0.5661944607871141\n",
      "Logistic Regression - Accuracy: 0.5910251732944181\n",
      "Logistic Regression - Confusion Matrix:\n",
      " [[51781 35821]\n",
      " [   51    59]]\n",
      "Logistic Regression - Classification Report:\n",
      "               precision    recall  f1-score   support\n",
      "\n",
      "         0.0       1.00      0.59      0.74     87602\n",
      "         1.0       0.00      0.54      0.00       110\n",
      "\n",
      "    accuracy                           0.59     87712\n",
      "   macro avg       0.50      0.56      0.37     87712\n",
      "weighted avg       1.00      0.59      0.74     87712\n",
      "\n"
     ]
    }
   ],
   "source": [
    "from sklearn.model_selection import GridSearchCV\n",
    "from sklearn.linear_model import LogisticRegression\n",
    "from sklearn.metrics import accuracy_score, confusion_matrix, classification_report\n",
    "\n",
    "# Define the parameter grid for logistic regression\n",
    "param_grid_lr = {\n",
    "    'C': [0.01, 0.1, 1, 10, 100],\n",
    "    'penalty': ['l1', 'l2'],\n",
    "    'solver': ['liblinear']\n",
    "}\n",
    "\n",
    "# Initialize the model\n",
    "log_reg = LogisticRegression(random_state=42, class_weight='balanced')\n",
    "\n",
    "# Initialize GridSearchCV\n",
    "grid_search_lr = GridSearchCV(estimator=log_reg, param_grid=param_grid_lr, cv=5, scoring='accuracy', n_jobs=-1)\n",
    "\n",
    "# Fit the model\n",
    "grid_search_lr.fit(X_train_ros, y_train_ros)\n",
    "\n",
    "# Best parameters and best score\n",
    "print(\"Best Parameters for Logistic Regression:\", grid_search_lr.best_params_)\n",
    "print(\"Best Score for Logistic Regression:\", grid_search_lr.best_score_)\n",
    "\n",
    "# Evaluate the tuned model\n",
    "best_log_reg = grid_search_lr.best_estimator_\n",
    "y_pred_lr_tuned = best_log_reg.predict(X_test_scaled)\n",
    "print('Logistic Regression - Accuracy:', accuracy_score(y_test, y_pred_lr_tuned))\n",
    "print('Logistic Regression - Confusion Matrix:\\n', confusion_matrix(y_test, y_pred_lr_tuned))\n",
    "print('Logistic Regression - Classification Report:\\n', classification_report(y_test, y_pred_lr_tuned))\n"
   ]
  },
  {
   "cell_type": "code",
   "execution_count": null,
   "id": "e62a384d",
   "metadata": {},
   "outputs": [],
   "source": [
    "#Save the Tuned Model"
   ]
  },
  {
   "cell_type": "code",
   "execution_count": 55,
   "id": "06fb082e",
   "metadata": {},
   "outputs": [
    {
     "data": {
      "text/plain": [
       "['best_logistic_regression_model.pkl']"
      ]
     },
     "execution_count": 55,
     "metadata": {},
     "output_type": "execute_result"
    }
   ],
   "source": [
    "import joblib\n",
    "\n",
    "# Save the best logistic regression model\n",
    "joblib.dump(best_log_reg, 'best_logistic_regression_model.pkl')\n"
   ]
  },
  {
   "cell_type": "code",
   "execution_count": null,
   "id": "b035b4a5",
   "metadata": {},
   "outputs": [],
   "source": []
  }
 ],
 "metadata": {
  "kernelspec": {
   "display_name": "Python 3",
   "language": "python",
   "name": "python3"
  },
  "language_info": {
   "codemirror_mode": {
    "name": "ipython",
    "version": 3
   },
   "file_extension": ".py",
   "mimetype": "text/x-python",
   "name": "python",
   "nbconvert_exporter": "python",
   "pygments_lexer": "ipython3",
   "version": "3.8.8"
  }
 },
 "nbformat": 4,
 "nbformat_minor": 5
}
